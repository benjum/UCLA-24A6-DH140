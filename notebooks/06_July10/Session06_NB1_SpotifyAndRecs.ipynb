{
  "cells": [
    {
      "cell_type": "markdown",
      "id": "843c4648-b335-464e-8c18-9e4dd15c0686",
      "metadata": {},
      "source": "# Getting data from the web: API"
    },
    {
      "cell_type": "markdown",
      "id": "07f6f4ac",
      "metadata": {},
      "source": "## Spotify and `Spotipy`"
    },
    {
      "cell_type": "markdown",
      "id": "ea9f0b73",
      "metadata": {},
      "source": "Spotify allows developers to programmatically obtain data through its API.  \n\nWe are going to use the credentials you've already created to explore this API.  The [developer dashboard](https://developer.spotify.com/dashboard/login) allows you to access those credentials.\n\nWe'll also be using [spotipy](https://spotipy.readthedocs.io/), a Python library that is designed to interact with this API."
    },
    {
      "cell_type": "code",
      "execution_count": null,
      "id": "42793955",
      "metadata": {
        "trusted": true
      },
      "outputs": [],
      "source": "import spotipy"
    },
    {
      "cell_type": "markdown",
      "id": "09082aad",
      "metadata": {},
      "source": "In order to use the API, we need to authenticate with Spotify.  We are going to provide credentials to Spotify so that it knows we are a legitimate registered user."
    },
    {
      "cell_type": "code",
      "execution_count": null,
      "id": "5afafca3",
      "metadata": {
        "trusted": true
      },
      "outputs": [],
      "source": "from spotipy.oauth2 import SpotifyClientCredentials"
    },
    {
      "cell_type": "markdown",
      "id": "a9985029",
      "metadata": {},
      "source": "As it's written, the code below is not quite right:\n1. It needs to have legitimate values for the CLIENT_ID and CLIENT_SECRET\n2. Ideally one NEVER wants to store credentials in a workflow like this\n  * if you share the notebook with other people, or store it on GitHub, or otherwise put it in a publicly accessible place, then your secret credentials will be exposed"
    },
    {
      "cell_type": "code",
      "execution_count": null,
      "id": "f376feb4",
      "metadata": {
        "trusted": true
      },
      "outputs": [],
      "source": "# Storing our credentials\nCLIENT_ID='2a3'\nCLIENT_SECRET='3b4'\n\n# Authenticating with spotify\nsp = spotipy.Spotify(auth_manager = SpotifyClientCredentials(client_id=CLIENT_ID,\n                                                             client_secret=CLIENT_SECRET))\n\n# Carrying out a basic query\nsp.search(q='Neil Young', limit=20)"
    },
    {
      "cell_type": "markdown",
      "id": "12f931d9",
      "metadata": {},
      "source": "We can fix the code in two ways:\n1. Supply the proper credentials\n2. Put the credentials into a file that's kept more private"
    },
    {
      "cell_type": "code",
      "execution_count": null,
      "id": "01bf8487",
      "metadata": {
        "trusted": true
      },
      "outputs": [],
      "source": "# If we put our module in an unconventional location, then \n# we need to tell Python where to look for module files on this system\nimport sys\nsys.path.append('/home/jovyan')\n\n# Import the module file with our credential info\nimport spotify_key"
    },
    {
      "cell_type": "markdown",
      "id": "12ecb900",
      "metadata": {},
      "source": "Now we can access the credentials through variable names, rather than by explicitly writing out any private information."
    },
    {
      "cell_type": "code",
      "execution_count": null,
      "id": "34409ad9",
      "metadata": {
        "trusted": true
      },
      "outputs": [],
      "source": "# Example:\nprint(spotify_key.CLIENT_ID)"
    },
    {
      "cell_type": "markdown",
      "id": "1a9f4732",
      "metadata": {},
      "source": "Here is the more correct code."
    },
    {
      "cell_type": "code",
      "execution_count": null,
      "id": "4b00a7b2",
      "metadata": {
        "trusted": true
      },
      "outputs": [],
      "source": "# WE NO LONGER NEED THIS\n# Storing our credentials\n# CLIENT_ID='2a3'\n# CLIENT_SECRET='3b4'\n\n# Authenticating with spotify\nsp = spotipy.Spotify(auth_manager = SpotifyClientCredentials(client_id=spotify_key.CLIENT_ID,\n                                                             client_secret=spotify_key.CLIENT_SECRET))\n\n# Carrying out a basic query\nsp.search(q='Neil Young', limit=20)"
    },
    {
      "cell_type": "markdown",
      "id": "97d23d66",
      "metadata": {},
      "source": "Now we can get rolling with the API."
    },
    {
      "cell_type": "code",
      "execution_count": null,
      "id": "94dbd320",
      "metadata": {
        "trusted": true
      },
      "outputs": [],
      "source": "results = sp.search(q='Neil Young', limit=20)\nprint(results)"
    },
    {
      "cell_type": "markdown",
      "id": "64fdb3e5",
      "metadata": {},
      "source": "Sometimes it's like trying to drink water from a firehose."
    },
    {
      "cell_type": "markdown",
      "id": "73f020c3",
      "metadata": {},
      "source": "### How do I know how to do the above code in the first place?\n\nIt can be VERY important and helpful to consult the documentation.\n\nCheck out: https://developer.spotify.com/documentation/web-api/\n* The examples are mainly in javascript, which we're not using in this course.\n\nFortunately there is also documentation in turn for Python libraries like spotipy to interact with the Spotify API: \n* https://spotipy.readthedocs.io/\n  * For installation, examples, reference, link to source code\n* GitHub repos can themselves contain useful documentation on the main README\n  * ... not that we want to overburden ourselves with Python, but note that you can even peruse source code if you want\n    * https://github.com/spotipy-dev/spotipy\n    * note the use of requests and json in, for example, \"spotipy/client.py\" (and something called \"urllib3\" -> requests is built on urllib3 and intended to make HTTP requests more painless)"
    },
    {
      "cell_type": "code",
      "execution_count": null,
      "id": "add491fa",
      "metadata": {
        "trusted": true
      },
      "outputs": [],
      "source": "# Let's put our Python dictionary skills to good use\n\ntype(results)"
    },
    {
      "cell_type": "code",
      "execution_count": null,
      "id": "69293f28",
      "metadata": {
        "trusted": true
      },
      "outputs": [],
      "source": "results.keys()"
    },
    {
      "cell_type": "code",
      "execution_count": null,
      "id": "0198ad80",
      "metadata": {
        "trusted": true
      },
      "outputs": [],
      "source": "results['tracks'].keys()"
    },
    {
      "cell_type": "code",
      "execution_count": null,
      "id": "92a56b30",
      "metadata": {
        "trusted": true
      },
      "outputs": [],
      "source": "results['tracks']['items'].keys()"
    },
    {
      "cell_type": "markdown",
      "id": "d04e6264",
      "metadata": {},
      "source": "So.... we have to navigate our way through nested data structures, not all of which are dictionaries."
    },
    {
      "cell_type": "code",
      "execution_count": null,
      "id": "212de429",
      "metadata": {
        "trusted": true
      },
      "outputs": [],
      "source": "results['tracks']['items'][0].keys()"
    },
    {
      "cell_type": "markdown",
      "id": "30ab5066",
      "metadata": {},
      "source": "I will let you explore the documentation links for more info, and we will just cut to using some interesting data like artist name, track name, etc."
    },
    {
      "cell_type": "code",
      "execution_count": null,
      "id": "2e113504",
      "metadata": {
        "trusted": true
      },
      "outputs": [],
      "source": "print(results['tracks']['items'][0]['album']['name'])\nprint(results['tracks']['items'][0]['name'])\nprint(results['tracks']['items'][0]['artists'])\nprint(results['tracks']['items'][0]['popularity'])"
    },
    {
      "cell_type": "code",
      "execution_count": null,
      "id": "d9b84430",
      "metadata": {
        "trusted": true
      },
      "outputs": [],
      "source": "results = sp.search(q='Neil Young', limit=20)\n\n# using 'enumerate' for a collection of items allows you to loop over the items, as well\n# as to use a numerical count for indexing\nfor idx, track in enumerate(results['tracks']['items']):\n    print(idx, track['name'])"
    },
    {
      "cell_type": "code",
      "execution_count": null,
      "id": "a87cdebd",
      "metadata": {
        "trusted": true
      },
      "outputs": [],
      "source": "results = sp.search(q='Neil Young', limit=20)\n\nfor idx, track in enumerate(results['tracks']['items']):\n    print(idx, track['name'], ' : ', track['artists'][0]['name'])"
    },
    {
      "cell_type": "markdown",
      "id": "995452ae",
      "metadata": {},
      "source": "As long as you can traverse this data structure, then you can collect information from every item that is returned into something a little more manageable.... \n\nWe are going to collect information from a Spotify playlist, and put information about the tracks into a Pandas dataframe."
    },
    {
      "cell_type": "code",
      "execution_count": null,
      "id": "cfee8fae",
      "metadata": {
        "trusted": true
      },
      "outputs": [],
      "source": "playlists = sp.user_playlists('spotify')"
    },
    {
      "cell_type": "code",
      "execution_count": null,
      "id": "316e0f4a",
      "metadata": {
        "trusted": true
      },
      "outputs": [],
      "source": "playlists['items'][0]"
    },
    {
      "cell_type": "markdown",
      "id": "09657fc0",
      "metadata": {},
      "source": "URI:  Uniform Resource Identifier\n* These allow us to pass specific identifiers to Spotify so that we can tell it exactly what we're looking for."
    },
    {
      "cell_type": "code",
      "execution_count": null,
      "id": "079f3d9f",
      "metadata": {
        "trusted": true
      },
      "outputs": [],
      "source": "pitems = sp.playlist_items('spotify:playlist:37i9dQZF1DXcBWIGoYBM5M')"
    },
    {
      "cell_type": "code",
      "execution_count": null,
      "id": "06d314e1",
      "metadata": {
        "trusted": true
      },
      "outputs": [],
      "source": "len(pitems['items'])"
    },
    {
      "cell_type": "code",
      "execution_count": null,
      "id": "6fb44a46",
      "metadata": {
        "trusted": true
      },
      "outputs": [],
      "source": "for i in pitems['items']:\n    print(i['track']['artists'][0]['name'] + ' : ' + i['track']['name'])"
    },
    {
      "cell_type": "code",
      "execution_count": null,
      "id": "590fc436",
      "metadata": {
        "trusted": true
      },
      "outputs": [],
      "source": "print(pitems['items'][0]['track']['artists'][0]['name'])\nprint(pitems['items'][0]['track']['name'])\nprint(pitems['items'][0]['track']['uri'])"
    },
    {
      "cell_type": "markdown",
      "id": "ecb9abd1",
      "metadata": {},
      "source": "This track also has a URI, which we can use to get audio features about this track:"
    },
    {
      "cell_type": "code",
      "execution_count": null,
      "id": "71d9c3db",
      "metadata": {
        "trusted": true
      },
      "outputs": [],
      "source": "sp.audio_features('spotify:track:6dOtVTDdiauQNBQEDOtlAB')"
    },
    {
      "cell_type": "code",
      "execution_count": null,
      "id": "b5836189",
      "metadata": {
        "scrolled": true,
        "trusted": true
      },
      "outputs": [],
      "source": "sp.track('spotify:track:6dOtVTDdiauQNBQEDOtlAB')"
    },
    {
      "cell_type": "markdown",
      "id": "a05fbd70",
      "metadata": {},
      "source": "If we have the track url, can we somehow get the lyrics too?"
    },
    {
      "cell_type": "code",
      "execution_count": null,
      "id": "b0302aea",
      "metadata": {
        "trusted": true
      },
      "outputs": [],
      "source": "response = requests.get('https://open.spotify.com/track/6dOtVTDdiauQNBQEDOtlAB')"
    },
    {
      "cell_type": "code",
      "execution_count": null,
      "id": "4c94c083",
      "metadata": {
        "trusted": true
      },
      "outputs": [],
      "source": "# Checking that we have a successful request\nresponse"
    },
    {
      "cell_type": "code",
      "execution_count": null,
      "id": "07873b39",
      "metadata": {
        "trusted": true
      },
      "outputs": [],
      "source": "# Find the first occurrence of \"lyrics\"\nresponse.text.find('lyrics')"
    },
    {
      "cell_type": "code",
      "execution_count": null,
      "id": "72224e7e",
      "metadata": {
        "trusted": true
      },
      "outputs": [],
      "source": "# Is it an indicator of an html tag?\nresponse.text[0:200]"
    },
    {
      "cell_type": "code",
      "execution_count": null,
      "id": "842c9563",
      "metadata": {
        "trusted": true
      },
      "outputs": [],
      "source": "# Find the next occurrence of \"lyrics\"\nresponse.text.find('lyrics', 134)\n# response.text[]"
    },
    {
      "cell_type": "markdown",
      "id": "f804c7cc",
      "metadata": {},
      "source": "... looks like it wants us to have Premium access.  But in any case, it is not straight-forward here to retrieve the lyrics, and indeed there are likely copyright issues related to sharing lyrical content.\n\nBack to some data analysis."
    },
    {
      "cell_type": "code",
      "execution_count": null,
      "id": "662e8417",
      "metadata": {
        "trusted": true
      },
      "outputs": [],
      "source": "eilish_track = sp.track('spotify:track:6dOtVTDdiauQNBQEDOtlAB')"
    },
    {
      "cell_type": "code",
      "execution_count": null,
      "id": "bb8fad5f",
      "metadata": {
        "trusted": true
      },
      "outputs": [],
      "source": "eilish_track['popularity']"
    },
    {
      "cell_type": "markdown",
      "id": "0059eddd",
      "metadata": {},
      "source": "We are now going to put some track info into a dataframe for easier analysis.\n\n"
    },
    {
      "cell_type": "code",
      "execution_count": null,
      "id": "b88e3b9b",
      "metadata": {
        "trusted": true
      },
      "outputs": [],
      "source": "import pandas as pd"
    },
    {
      "cell_type": "markdown",
      "id": "c9f00821",
      "metadata": {},
      "source": "The audio features that we can grab are detailed as the keys of the returned audio_features object."
    },
    {
      "cell_type": "code",
      "execution_count": null,
      "id": "ad762a00",
      "metadata": {
        "trusted": true
      },
      "outputs": [],
      "source": "audiofeatures = sp.audio_features('spotify:track:6dOtVTDdiauQNBQEDOtlAB')[0].keys()"
    },
    {
      "cell_type": "code",
      "execution_count": null,
      "id": "6cdbcb09",
      "metadata": {
        "trusted": true
      },
      "outputs": [],
      "source": "audiofeatures"
    },
    {
      "cell_type": "markdown",
      "id": "5535cccd",
      "metadata": {},
      "source": "Now we do a little for loop to create a dictionary that has a list of 50 values for each audio feature."
    },
    {
      "cell_type": "code",
      "execution_count": null,
      "id": "29561846",
      "metadata": {
        "trusted": true
      },
      "outputs": [],
      "source": "# initialize the dictionary\n# with empty lists for each audio feature\naf = {}\nfor i in audiofeatures:\n    af[i] = []\n\n# iteratate over every track, retrieve the audio_features, and append values to the dictionary's lists\nfor i in pitems['items']:\n    f = sp.audio_features(i['track']['uri'])[0]\n    for j in audiofeatures:\n        af[j].append(f[j])"
    },
    {
      "cell_type": "code",
      "execution_count": null,
      "id": "1a22619e",
      "metadata": {
        "trusted": true
      },
      "outputs": [],
      "source": "af"
    },
    {
      "cell_type": "markdown",
      "id": "a63415a0",
      "metadata": {},
      "source": "We can quickly make this into a Pandas dataframe:"
    },
    {
      "cell_type": "code",
      "execution_count": null,
      "id": "b6712c95",
      "metadata": {
        "trusted": true
      },
      "outputs": [],
      "source": "top50_df = pd.DataFrame(af)"
    },
    {
      "cell_type": "code",
      "execution_count": null,
      "id": "bfe66b22",
      "metadata": {
        "trusted": true
      },
      "outputs": [],
      "source": "top50_df"
    },
    {
      "cell_type": "markdown",
      "id": "a2de56f7",
      "metadata": {},
      "source": "But, we'll also include the artist name, track name, top50 rank, and popularity score."
    },
    {
      "cell_type": "code",
      "execution_count": null,
      "id": "e8f3c12c",
      "metadata": {
        "trusted": true
      },
      "outputs": [],
      "source": "top50rank = []\nartist = []\ntrack = []\npopularity = []\n\nfor ix,item in enumerate(pitems['items']):\n    top50rank.append(ix+1)\n    artist.append(item['track']['artists'][0]['name'])\n    track.append(item['track']['name'])\n    popularity.append(item['track']['popularity'])\n\ntop50_df['top50rank'] = top50rank\ntop50_df['artist'] = artist\ntop50_df['track'] = track\ntop50_df['popularity'] = popularity"
    },
    {
      "cell_type": "code",
      "execution_count": null,
      "id": "17b38afc",
      "metadata": {
        "trusted": true
      },
      "outputs": [],
      "source": "top50_df"
    },
    {
      "cell_type": "markdown",
      "id": "aa6ede9c",
      "metadata": {},
      "source": "It may be more convenient when looking at snapshots of the data to have the columns in a different order.\n\nTo do that, I'll get a list of the column names in the order I want, and then reassign a view of the dataframe with that column name list back into the dataframe variable."
    },
    {
      "cell_type": "code",
      "execution_count": null,
      "id": "1a586114",
      "metadata": {
        "trusted": true
      },
      "outputs": [],
      "source": "columnsinorder = list(top50_df.columns[[-4,-3,-2,-1]]) + list(top50_df.columns[:-4])"
    },
    {
      "cell_type": "code",
      "execution_count": null,
      "id": "1a1a460d",
      "metadata": {
        "trusted": true
      },
      "outputs": [],
      "source": "top50_df = top50_df.loc[:,columnsinorder]"
    },
    {
      "cell_type": "code",
      "execution_count": null,
      "id": "13a74c84",
      "metadata": {
        "trusted": true
      },
      "outputs": [],
      "source": "top50_df"
    },
    {
      "cell_type": "markdown",
      "id": "03c9799b",
      "metadata": {},
      "source": "Now we've made a more complete dataframe.\n\nAt this point we can have more fun.  Analyze, visualize, summarize,...."
    },
    {
      "cell_type": "code",
      "execution_count": null,
      "id": "ddb4432b",
      "metadata": {
        "trusted": true
      },
      "outputs": [],
      "source": "top50_df.sort_values(by='popularity',ascending=False)"
    },
    {
      "cell_type": "code",
      "execution_count": null,
      "id": "124a09f5",
      "metadata": {
        "trusted": true
      },
      "outputs": [],
      "source": "top50_df['energy'].plot(kind='hist')"
    },
    {
      "cell_type": "code",
      "execution_count": null,
      "id": "170f4365",
      "metadata": {
        "trusted": true
      },
      "outputs": [],
      "source": "top50_df.plot(x='energy',y='danceability',kind='scatter')"
    },
    {
      "cell_type": "code",
      "execution_count": null,
      "id": "9c56933c",
      "metadata": {
        "trusted": true
      },
      "outputs": [],
      "source": "import matplotlib.pyplot as plt"
    },
    {
      "cell_type": "code",
      "execution_count": null,
      "id": "9e4c63d2",
      "metadata": {
        "trusted": true
      },
      "outputs": [],
      "source": "top50_df.plot(x='energy',y='danceability',kind='scatter')\nplt.xlim(0,1)\nplt.ylim(0,1)"
    },
    {
      "cell_type": "code",
      "execution_count": null,
      "id": "7c9982eb",
      "metadata": {
        "trusted": true
      },
      "outputs": [],
      "source": "top50_df.describe()"
    },
    {
      "cell_type": "code",
      "execution_count": null,
      "id": "13c5e3ec",
      "metadata": {
        "trusted": true
      },
      "outputs": [],
      "source": "top50_df.plot(x='instrumentalness',y='liveness',kind='scatter')"
    },
    {
      "cell_type": "code",
      "execution_count": null,
      "id": "2d24934f",
      "metadata": {
        "trusted": true
      },
      "outputs": [],
      "source": "top50_df.loc[top50_df['instrumentalness'] > 0.05]"
    },
    {
      "cell_type": "code",
      "execution_count": null,
      "id": "4ae2aa43",
      "metadata": {
        "trusted": true
      },
      "outputs": [],
      "source": "top50_df.plot(x='instrumentalness',y='loudness',kind='scatter')"
    },
    {
      "cell_type": "code",
      "execution_count": null,
      "id": "cb21405a",
      "metadata": {
        "trusted": true
      },
      "outputs": [],
      "source": "top50_df.plot(y='loudness',kind='hist')"
    },
    {
      "cell_type": "markdown",
      "id": "59aa122c",
      "metadata": {},
      "source": "We could easily get carried away with analysis and visualization at this point.\n\nWe will soon look at song lyrics in tandem with this, as a branching off point for getting into natural language processing."
    },
    {
      "cell_type": "markdown",
      "id": "26344bdc",
      "metadata": {},
      "source": "# Branch points"
    },
    {
      "cell_type": "markdown",
      "id": "5b91c36e",
      "metadata": {},
      "source": "There are now several items of interest that we can pursue:\n1. Looking at statistics and modeling\n2. Analyzing the language of lyrical content\n3. Networks of artists, users, playlists, etc"
    },
    {
      "cell_type": "markdown",
      "id": "541e2cda",
      "metadata": {},
      "source": "For the moment, let's look at some ways to make music recommendations."
    },
    {
      "cell_type": "markdown",
      "id": "41f0629e",
      "metadata": {},
      "source": "# Popularity score"
    },
    {
      "cell_type": "markdown",
      "id": "305f030f",
      "metadata": {},
      "source": "The first way to make recommendations is the easiest.  Just look at what songs are on the top50 list, or most popular, or highest on some other metric, and use that to recommend music."
    },
    {
      "cell_type": "code",
      "execution_count": null,
      "id": "e0a5e2c6",
      "metadata": {
        "trusted": true
      },
      "outputs": [],
      "source": "top50_df"
    },
    {
      "cell_type": "code",
      "execution_count": null,
      "id": "12fa53d5",
      "metadata": {
        "trusted": true
      },
      "outputs": [],
      "source": "# Here are the top 10 recommendations based on the top50 list:\ntop10 = top50_df[:10]\n\nfor i,row in top10.iterrows():\n    print(row['artist'] + ' : ' + row['track'])"
    },
    {
      "cell_type": "code",
      "execution_count": null,
      "id": "02a0e968",
      "metadata": {
        "trusted": true
      },
      "outputs": [],
      "source": "# Here are the top 10 recommendations based on popularity score:\ntop10 = top50_df.sort_values(by='popularity',ascending=False)[:10]\n\nfor i,row in top10.iterrows():\n    print(row['artist'] + ' : ' + row['track'])"
    },
    {
      "cell_type": "code",
      "execution_count": null,
      "id": "1c5fc362",
      "metadata": {
        "trusted": true
      },
      "outputs": [],
      "source": "# Here are the top 10 recommendations if I want a high danceability score:\ntop10 = top50_df.sort_values(by='danceability',ascending=False)[:10]\n\nfor i,row in top10.iterrows():\n    print(row['artist'] + ' : ' + row['track'])"
    },
    {
      "cell_type": "markdown",
      "id": "fb87450c",
      "metadata": {},
      "source": "# Collaborative filtering\n\nA second way to make recommendations is to find other users who like the same stuff you do, and then look at what other content they love."
    },
    {
      "cell_type": "markdown",
      "id": "af2edacf",
      "metadata": {},
      "source": "Let's make some fictious users and look at their (fictious) similarities."
    },
    {
      "cell_type": "code",
      "execution_count": null,
      "id": "c3ea24cb",
      "metadata": {
        "trusted": true
      },
      "outputs": [],
      "source": "people = ['Alice','Ben','Charlie','Dan','Evelyn']"
    },
    {
      "cell_type": "code",
      "execution_count": null,
      "id": "5391167c",
      "metadata": {
        "trusted": true
      },
      "outputs": [],
      "source": "import random\nrandom.seed(3)"
    },
    {
      "cell_type": "code",
      "execution_count": null,
      "id": "a375f2b6",
      "metadata": {
        "trusted": true
      },
      "outputs": [],
      "source": "random.randint(0,100)"
    },
    {
      "cell_type": "code",
      "execution_count": null,
      "id": "b3ba0c5c",
      "metadata": {
        "trusted": true
      },
      "outputs": [],
      "source": "top50_df['track'][:5]"
    },
    {
      "cell_type": "code",
      "execution_count": null,
      "id": "cd28b7e8",
      "metadata": {
        "trusted": true
      },
      "outputs": [],
      "source": "t10 = list(top50_df['track'][:10])"
    },
    {
      "cell_type": "code",
      "execution_count": null,
      "id": "fb4599a7",
      "metadata": {
        "trusted": true
      },
      "outputs": [],
      "source": "t10"
    },
    {
      "cell_type": "code",
      "execution_count": null,
      "id": "4deb0135",
      "metadata": {
        "trusted": true
      },
      "outputs": [],
      "source": "t = []\np = []\nr = []\nfor i in t10[:5]:\n    for j in people:\n        t.append(i)\n        p.append(j)\n        r.append(random.randint(0,100))\nfor i in t10[5:10]:\n    for j in people:\n        if j != 'Ben':\n            t.append(i)\n            p.append(j)\n            r.append(random.randint(0,100))            \n\nraters = pd.DataFrame({'track': t, 'people':p, 'rating':r})"
    },
    {
      "cell_type": "code",
      "execution_count": null,
      "id": "5cc6b4ed",
      "metadata": {
        "trusted": true
      },
      "outputs": [],
      "source": "raters"
    },
    {
      "cell_type": "code",
      "execution_count": null,
      "id": "bc0e7b04",
      "metadata": {
        "trusted": true
      },
      "outputs": [],
      "source": "raters[raters['people']=='Evelyn']"
    },
    {
      "cell_type": "code",
      "execution_count": null,
      "id": "a7f2c7be",
      "metadata": {
        "trusted": true
      },
      "outputs": [],
      "source": "raters[raters['people']=='Dan']"
    },
    {
      "cell_type": "code",
      "execution_count": null,
      "id": "f00105d8",
      "metadata": {
        "trusted": true
      },
      "outputs": [],
      "source": "import matplotlib.pyplot as plt"
    },
    {
      "cell_type": "code",
      "execution_count": null,
      "id": "bd5a96b2",
      "metadata": {
        "trusted": true
      },
      "outputs": [],
      "source": "for i in ['Alice', 'Charlie', 'Dan', 'Evelyn']:\n    plt.scatter(raters.loc[raters['people']=='Ben', 'rating'], \n                raters.loc[raters['people']==i, 'rating'][:5])\n    plt.xlim([0,100])\n    plt.xlabel(\"Ben's rating\")\n    plt.ylim([0,100])\n    plt.ylabel(i+\"'s rating\")\n    plt.show()"
    },
    {
      "cell_type": "markdown",
      "id": "4f345293",
      "metadata": {},
      "source": "We could also look at the similarities in everyone's ratings of pairs of tracks, to see if there are similarities between tracks rather than between users.\n\nFor example, which tracks in the top 5 have similar ratings with the top track, in terms of how our users are rating them."
    },
    {
      "cell_type": "code",
      "execution_count": null,
      "id": "c2fe30c5",
      "metadata": {
        "scrolled": false,
        "trusted": true
      },
      "outputs": [],
      "source": "for i in range(0,5):\n    rating1 = raters.loc[raters['track'] == t10[0], 'rating']\n    rating2 = raters.loc[raters['track'] == t10[i], 'rating']\n\n    plt.scatter(rating1, rating2)\n    plt.xlim([0,100])\n    plt.xlabel(t10[0]+\" ratings\")\n    plt.ylim([0,100])\n    plt.ylabel(t10[i]+\" ratings\")\n    plt.show()"
    },
    {
      "cell_type": "markdown",
      "id": "cd039149",
      "metadata": {},
      "source": "# User-based collaborative filtering"
    },
    {
      "cell_type": "markdown",
      "id": "7f632404",
      "metadata": {},
      "source": "Making rating predictions on the basis of other users who are similar."
    },
    {
      "cell_type": "code",
      "execution_count": null,
      "id": "847be3eb",
      "metadata": {
        "trusted": true
      },
      "outputs": [],
      "source": "from scipy.spatial.distance import euclidean"
    },
    {
      "cell_type": "code",
      "execution_count": null,
      "id": "621702ce",
      "metadata": {
        "trusted": true
      },
      "outputs": [],
      "source": "def euclidean_dist(person1, person2):\n    \n    person1ratings = raters.loc[raters['people']==person1, 'rating']\n    person2ratings = raters.loc[raters['people']==person2, 'rating'][:5]\n    \n    return 1 / (1 + euclidean(person1ratings, person2ratings))"
    },
    {
      "cell_type": "code",
      "execution_count": null,
      "id": "62a3e400",
      "metadata": {
        "trusted": true
      },
      "outputs": [],
      "source": "euclidean_dist('Ben','Evelyn')"
    },
    {
      "cell_type": "code",
      "execution_count": null,
      "id": "4603967a",
      "metadata": {
        "trusted": true
      },
      "outputs": [],
      "source": "for i in people:\n    if i != 'Ben':\n        print(i,':',euclidean_dist('Ben',i))"
    },
    {
      "cell_type": "code",
      "execution_count": null,
      "id": "0d1d3879",
      "metadata": {
        "trusted": true
      },
      "outputs": [],
      "source": "def matches(person):\n    best = {}\n    for i in people:\n        if i != person:\n            best[i] = euclidean_dist(person,i)\n    return dict(sorted(best.items(), key=lambda item: -item[1]))"
    },
    {
      "cell_type": "code",
      "execution_count": null,
      "id": "e70f2f25",
      "metadata": {
        "trusted": true
      },
      "outputs": [],
      "source": "matches('Ben')"
    },
    {
      "cell_type": "markdown",
      "id": "8a210a98",
      "metadata": {},
      "source": "It's easy now to switch out the similarity metric.  Simply replace \"euclidean\" with something else.  (But remember too whether a low score or a high score means better or worse similarity.)"
    },
    {
      "cell_type": "code",
      "execution_count": null,
      "id": "ff31678e",
      "metadata": {
        "trusted": true
      },
      "outputs": [],
      "source": "from scipy.spatial.distance import cosine\n\ndef cosine_dist(person1, person2):    \n    person1ratings = raters.loc[raters['people']==person1, 'rating']\n    person2ratings = raters.loc[raters['people']==person2, 'rating'][:5]\n    return 1 / (1 + cosine(person1ratings, person2ratings))\n\ndef matches(person):\n    best = {}\n    for i in people:\n        if i != person:\n            best[i] = cosine_dist(person,i)\n    return dict(sorted(best.items(), key=lambda item: -item[1]))\n\nmatches('Ben')"
    },
    {
      "cell_type": "markdown",
      "id": "6e4a8ba6",
      "metadata": {},
      "source": "To get rankings of my unrated tracks, I could just look at Evelyn's ratings, since she's closest to me."
    },
    {
      "cell_type": "code",
      "execution_count": null,
      "id": "56f18b21",
      "metadata": {
        "trusted": true
      },
      "outputs": [],
      "source": "evelyn_ratings = raters.loc[raters['people'] == 'Evelyn', ['track','rating']][5:]\nevelyn_ratings.sort_values(by='rating',ascending=False)"
    },
    {
      "cell_type": "markdown",
      "id": "b872c2fd",
      "metadata": {},
      "source": "It's more comprehensive to look at a weighted average over everyone.  We weight every rating by the similarity score between myself and that person, and then we divide the total by the sum of all the similarity scores."
    },
    {
      "cell_type": "code",
      "execution_count": null,
      "id": "d52d6a47",
      "metadata": {
        "trusted": true
      },
      "outputs": [],
      "source": "weights = matches('Ben')\n\n# Initialize a dictionary to hold our predicted ratings\ntrack_predictions = {}\n\n# Get my 5 unrated tracks and assign an initial score of 0\nfor i in t10[5:10]:\n\n    weighted_rating = 0\n\n    # Calculate the weighted score based on my similarity with others\n    total_weight = 0\n    for person in people:\n        if person != 'Ben':\n            weight = weights[person]\n            weighted_rating += weight * raters.loc[(raters['people'] == person) & \n                                                   (raters['track'] == i), 'rating'].iloc[0]\n            total_weight += weight\n    track_predictions[i] = weighted_rating / total_weight\n    \npreds_sorted = dict(sorted(track_predictions.items(), key=lambda item: -item[1]))\nfor i in preds_sorted.keys():\n  print(i, \":\", round(preds_sorted[i],1))"
    },
    {
      "cell_type": "markdown",
      "id": "3cad2574",
      "metadata": {},
      "source": "# Item-based filtering\n\nWhat if we look not at the similarity between people, but the similarity between tracks?\n\n... effectively, conceptually, this is just switching the places of people and tracks."
    },
    {
      "cell_type": "code",
      "execution_count": null,
      "id": "55cfa900",
      "metadata": {
        "trusted": true
      },
      "outputs": [],
      "source": "def euclidean_dist(track1, track2):    \n    \n    # one difference here is that we do not use Ben's ratings, because he has not rated all pairs\n    # for a larger dataset, we would only want to include ratings here from people who have rated both tracks\n    track1ratings = raters.loc[(raters['track']==track1) & (raters['people']!='Ben'), 'rating']\n    track2ratings = raters.loc[(raters['track']==track2) & (raters['people']!='Ben'), 'rating']\n    return 1 / (1 + euclidean(track1ratings, track2ratings))\n\ndef matches(track1):\n    best = {}\n    for i in t10:\n        if i != track1:\n            best[i] = euclidean_dist(track1, i)\n    return dict(sorted(best.items(), key=lambda item: -item[1]))"
    },
    {
      "cell_type": "code",
      "execution_count": null,
      "id": "0a465225",
      "metadata": {
        "trusted": true
      },
      "outputs": [],
      "source": "print('Matching with', t10[0])\nmatches(t10[0])"
    },
    {
      "cell_type": "code",
      "execution_count": null,
      "id": "baf78335",
      "metadata": {
        "trusted": true
      },
      "outputs": [],
      "source": "# Initialize a dictionary to hold our predicted ratings\ntrack_predictions = {}\n\n# Get my 5 unrated tracks and assign an initial score of 0\nfor i in t10[5:10]:\n\n    weights = matches(i)\n    \n    weighted_rating = 0\n\n    # Calculate the weighted score based on my current track ratings\n    total_weight = 0\n    for t in t10[:5]:\n        weight = weights[t]\n        weighted_rating += weight * raters.loc[(raters['people'] == 'Ben') & \n                                               (raters['track'] == t), 'rating'].iloc[0]\n        total_weight += weight\n    track_predictions[i] = weighted_rating / total_weight\n    \npreds_sorted = dict(sorted(track_predictions.items(), key=lambda item: -item[1]))\nfor i in preds_sorted.keys():\n  print(i, \":\", round(preds_sorted[i],1))"
    },
    {
      "cell_type": "markdown",
      "id": "eeea6611",
      "metadata": {},
      "source": "# Content-based filtering"
    },
    {
      "cell_type": "markdown",
      "id": "10e30261",
      "metadata": {},
      "source": "A different idea:  Use content to make ratings.\n\nThat content could be audio feature scores, sentiment in the lyrics, similar lyrical topics, genre, etc.\n\n### To be continued ###"
    }
  ],
  "metadata": {
    "kernelspec": {
      "display_name": "Python 3 (ipykernel)",
      "language": "python",
      "name": "python3"
    },
    "language_info": {
      "codemirror_mode": {
        "name": "ipython",
        "version": 3
      },
      "file_extension": ".py",
      "mimetype": "text/x-python",
      "name": "python",
      "nbconvert_exporter": "python",
      "pygments_lexer": "ipython3",
      "version": "3.11.6"
    },
    "nbsimplegrader": {
      "publish_config": {
        "classes": [
          "DH140_24Summer_bwinjum"
        ],
        "options": {
          "include_submit": false,
          "lock_notebook": false
        },
        "tools": []
      }
    }
  },
  "nbformat": 4,
  "nbformat_minor": 5
}