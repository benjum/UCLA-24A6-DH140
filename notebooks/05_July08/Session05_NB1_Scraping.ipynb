{
  "cells": [
    {
      "cell_type": "markdown",
      "id": "1d7f193d-1ec3-4351-9ba0-688d36390df5",
      "metadata": {},
      "source": "# Getting data from the web:  Scraping"
    },
    {
      "cell_type": "markdown",
      "id": "ce44adc9-8090-4231-b92c-bc854dc4fe4e",
      "metadata": {},
      "source": "Our trusty friend Pandas can read data directly from a web link.\n\nWe read the dataset into a dataframe without actually having the file in our folder!"
    },
    {
      "cell_type": "code",
      "execution_count": null,
      "id": "d4cf5046-247b-492d-8e71-110408eb28dc",
      "metadata": {
        "trusted": false
      },
      "outputs": [],
      "source": "import pandas as pd"
    },
    {
      "cell_type": "code",
      "execution_count": null,
      "id": "930855e1-218b-4b59-b727-867f76b944be",
      "metadata": {
        "trusted": false
      },
      "outputs": [],
      "source": "df = pd.read_csv('https://corgis-edu.github.io/corgis/datasets/csv/classics/classics.csv')"
    },
    {
      "cell_type": "code",
      "execution_count": null,
      "id": "680c983a-66a6-4aa6-9df0-f535198b795c",
      "metadata": {
        "trusted": false
      },
      "outputs": [],
      "source": "df.sample()"
    },
    {
      "cell_type": "code",
      "execution_count": null,
      "id": "fcb9a7c1-cc6f-4018-bcd0-6f5fc9aff72f",
      "metadata": {
        "trusted": false
      },
      "outputs": [],
      "source": "df.sort_values(by='metadata.downloads',ascending=True)[-10:].plot.barh(x='bibliography.title',y='metadata.downloads')"
    },
    {
      "cell_type": "markdown",
      "id": "59cabc3a-9d81-4257-915b-9fb49469ef7b",
      "metadata": {},
      "source": "---"
    },
    {
      "cell_type": "markdown",
      "id": "7b940753-1fe5-4605-b84b-6079f96400a1",
      "metadata": {},
      "source": "## requests"
    },
    {
      "cell_type": "markdown",
      "id": "165a9ece-f115-4924-b676-5d2bade2f13a",
      "metadata": {},
      "source": "The above code is very handy, but what if we simply want to read content that is on the page rather than in a readily available file?"
    },
    {
      "cell_type": "markdown",
      "id": "0798eac2-0b17-40e5-93d7-7c19bc6649f1",
      "metadata": {},
      "source": "Go to the [Classics CSV File](https://corgis-edu.github.io/corgis/csv/classics/) webpage and use your Browser's Inspector to look at the HTML for the page.  This will show HTML we discussed very briefly during our first classes.\n\nWe are going to get the entire web page using \"requests\" ([documentation](https://docs.python-requests.org/en/latest/)).  \n* \"Requests is an elegant and simple HTTP library for Python, built for human beings.\""
    },
    {
      "cell_type": "code",
      "execution_count": null,
      "id": "1d8615bb-dcf5-4378-a5c0-49906c9b2a37",
      "metadata": {
        "trusted": false
      },
      "outputs": [],
      "source": "import requests"
    },
    {
      "cell_type": "code",
      "execution_count": null,
      "id": "33d97188-5fac-4943-b441-77a8e8562509",
      "metadata": {
        "trusted": false
      },
      "outputs": [],
      "source": "response = requests.get('https://corgis-edu.github.io/corgis/csv/classics/')"
    },
    {
      "cell_type": "code",
      "execution_count": null,
      "id": "6ed289ee-b7ba-4e41-b6b8-48f7f1804cc8",
      "metadata": {
        "trusted": false
      },
      "outputs": [],
      "source": "response"
    },
    {
      "cell_type": "markdown",
      "id": "9d3aa3e2-b03f-400d-ba8f-01f5511c6f0e",
      "metadata": {},
      "source": "\"Responses\" are numerical codes that indicate whether a specific HTTP request has been successfully completed (See [HTTP code list](https://developer.mozilla.org/en-US/docs/Web/HTTP/Status))\n\nYou may have run into a couple of these on other sites, or even while trying to login to this JupyterHub!"
    },
    {
      "cell_type": "code",
      "execution_count": null,
      "id": "339d622b-1707-4009-8999-d50642269a34",
      "metadata": {
        "trusted": false
      },
      "outputs": [],
      "source": "# Note that this won't actually get the csv file\n\nresponse = requests.get('https://corgis-edu.github.io/corgis/csv/classics/classics.csv')"
    },
    {
      "cell_type": "code",
      "execution_count": null,
      "id": "b17b90ac-d3b4-41bd-8c57-df8a5261fc41",
      "metadata": {
        "trusted": false
      },
      "outputs": [],
      "source": "response"
    },
    {
      "cell_type": "markdown",
      "id": "08387c2e-d7ce-4a6c-ac53-2aafb012efc3",
      "metadata": {},
      "source": "Try finding the above URL in your browser:  https://corgis-edu.github.io/corgis/csv/classics/classics.csv"
    },
    {
      "cell_type": "code",
      "execution_count": null,
      "id": "6922faba-3b2d-4cdf-9a73-89595a50fd1c",
      "metadata": {
        "trusted": false
      },
      "outputs": [],
      "source": "response = requests.get('https://corgis-edu.github.io/corgis/csv/classics/')\nprint(response)"
    },
    {
      "cell_type": "code",
      "execution_count": null,
      "id": "9881226a-e066-4fde-a1c0-a3e52cd9d513",
      "metadata": {
        "scrolled": true,
        "tags": [],
        "trusted": false
      },
      "outputs": [],
      "source": "# The html of our desired corgis page:\nresponse.text"
    },
    {
      "cell_type": "code",
      "execution_count": null,
      "id": "3239353c-c08e-4592-905e-34719ec66d2b",
      "metadata": {
        "scrolled": true,
        "tags": [],
        "trusted": false
      },
      "outputs": [],
      "source": "print(response.text)"
    },
    {
      "cell_type": "markdown",
      "id": "df6b35b6-3f24-4903-bf1a-52cc97cfa542",
      "metadata": {},
      "source": "In all likelihood, we won't want all this html.  We will only want particular pieces of it.  Maybe the text of a screenplay, or an article, or the lyrics of a song...\n\nFortunately, there's a Python library for extracting these pieces from a web page:  **BeautifulSoup**\n\n\"BeautifulSoup is a Python library for pulling data out of HTML and XML files. It works with your favorite parser to provide idiomatic ways of navigating, searching, and modifying the parse tree. It commonly saves programmers hours or days of work.\"\n-- [documentation](https://beautiful-soup-4.readthedocs.io/en/latest/)"
    },
    {
      "cell_type": "code",
      "execution_count": null,
      "id": "aa6de2ab",
      "metadata": {
        "trusted": false
      },
      "outputs": [],
      "source": "from bs4 import BeautifulSoup"
    },
    {
      "cell_type": "code",
      "execution_count": null,
      "id": "f563d78d-28e2-4714-b486-86f31679c57b",
      "metadata": {
        "trusted": false
      },
      "outputs": [],
      "source": "# Save all the html in a string variable\nhtml_string = response.text\n\n# Use BeautifulSoup to create a new object that will allow you to search for HTML tags\ndocument = BeautifulSoup(html_string, \"html.parser\")\n\n# This \"document\" variable is an object that has a \"find\" method\ndocument.find('a')"
    },
    {
      "cell_type": "markdown",
      "id": "417c2991-bcf4-486f-aaf6-e3d2b75eb7e4",
      "metadata": {},
      "source": "What is `<a href=\"...`?\n\n-> This is an HTML tag.... so what are HTML \"tags\"?"
    },
    {
      "cell_type": "markdown",
      "id": "15136a59-fabc-40f6-9123-12692660f6fd",
      "metadata": {},
      "source": "HTML: Hyper-Text Markup Language\n\nHTML uses \"tags\" to classify different elements, for example:\n* `<h1>...</h1>`: a large header\n* `<img src=\"...\">`: an image\n* `<a href=\"...\">Deep Space Nine</a>`: a link"
    },
    {
      "cell_type": "markdown",
      "id": "ad5de395-3f8f-4525-bef2-a0fa28d90cd1",
      "metadata": {},
      "source": "Let's look at a simpler website:\nhttp://static.decontextualize.com/kittens.html\n* This toy website was made by Prof. Allison Parrish explicitly for the purposes of teaching BeautifulSoup."
    },
    {
      "cell_type": "code",
      "execution_count": null,
      "id": "bcb1c48e-2004-4418-981b-822274182563",
      "metadata": {
        "trusted": false
      },
      "outputs": [],
      "source": "response = requests.get('http://static.decontextualize.com/kittens.html')"
    },
    {
      "cell_type": "code",
      "execution_count": null,
      "id": "860aedfb-7bd3-4ff7-a4b3-0881ae885234",
      "metadata": {
        "trusted": false
      },
      "outputs": [],
      "source": "print(response.text)"
    },
    {
      "cell_type": "markdown",
      "id": "6584d17d-55c4-4871-9e97-217ac955617e",
      "metadata": {},
      "source": "Here are some tag examples:\n* `<h1>Kittens and the TV Shows They Love</h1>`: a large header\n* `<img src=\"http://placekitten.com/120/120\">`: an image\n* `<a href=\"http://www.imdb.com/title/tt0106145/\">Deep Space Nine</a>`: a link\n\nAnd you'll see additional tags:\n* `<ul>`: unordered list\n* `<li>`: list item\n* `<head>` and `<body>`: like header information and the body of a document\n* `<div>`: section of the document"
    },
    {
      "cell_type": "markdown",
      "id": "53ad6319-27ed-4434-80d5-c3a148856c6a",
      "metadata": {},
      "source": "There's a lot to learn about HTML, but this is mainly to show you examples of tags.  BeautifulSoup will let you parse HTML documents based on these tags."
    },
    {
      "cell_type": "code",
      "execution_count": null,
      "id": "eee4e8ba",
      "metadata": {
        "trusted": false
      },
      "outputs": [],
      "source": "# Save all the html in a string variable\nhtml_string = response.text\n\n# Use BeautifulSoup to create a new object that will allow you to search for HTML tags\ndocument = BeautifulSoup(html_string, \"html.parser\")\n\n# Find the title:\n# Up above, we see that the title is surrounded by the \"h1\" tag\ndocument.find('h1')"
    },
    {
      "cell_type": "code",
      "execution_count": null,
      "id": "a5552ffc",
      "metadata": {
        "trusted": false
      },
      "outputs": [],
      "source": "# Just want the text?  Use .text\ndocument.find('h1').text"
    },
    {
      "cell_type": "code",
      "execution_count": null,
      "id": "0100f4d8",
      "metadata": {
        "trusted": false
      },
      "outputs": [],
      "source": "# You can find the kitten names too.  Those are included with \"h2\" tags.\ndocument.find('h2')"
    },
    {
      "cell_type": "code",
      "execution_count": null,
      "id": "68ce7c7c",
      "metadata": {
        "trusted": false
      },
      "outputs": [],
      "source": "# But if you want to find _all_ of them, then use find_all\ndocument.find_all('h2')"
    },
    {
      "cell_type": "code",
      "execution_count": null,
      "id": "050e0c44",
      "metadata": {
        "trusted": false
      },
      "outputs": [],
      "source": "# For these you can't use a simple .text\n# This will give an error\ndocument.find_all('h2').text"
    },
    {
      "cell_type": "code",
      "execution_count": null,
      "id": "c7f148ce",
      "metadata": {
        "trusted": false
      },
      "outputs": [],
      "source": "# You need to use .text on each individual item\nfor i in document.find_all('h2'):\n    print(i)\n    print(i.text)"
    },
    {
      "cell_type": "code",
      "execution_count": null,
      "id": "fc1ebf66",
      "metadata": {
        "trusted": false
      },
      "outputs": [],
      "source": "# You need to use .text on each individual item\nkitten_names = []\nfor i in document.find_all('h2'):\n    kitten_names.append(i.text)\nkitten_names"
    },
    {
      "cell_type": "code",
      "execution_count": null,
      "id": "36329428",
      "metadata": {
        "trusted": false
      },
      "outputs": [],
      "source": "# We can also find all the images:\ndocument.find_all(\"img\")"
    },
    {
      "cell_type": "code",
      "execution_count": null,
      "id": "aab93daf",
      "metadata": {
        "trusted": false
      },
      "outputs": [],
      "source": "# Here, the important info is not text printed on the page, \n# it's a link to the pic\n# (try going to one)\n# how do we get these? -> treat it like the key of a dictionary\n\nfor i in document.find_all(\"img\"):\n    print(i)\n    print(i['src'])"
    },
    {
      "cell_type": "markdown",
      "id": "5712b464",
      "metadata": {},
      "source": "---"
    },
    {
      "cell_type": "markdown",
      "id": "b67b3680",
      "metadata": {},
      "source": "Fun aside:  you can use the IPython library to visualize HTML right inside the Jupyter notebook."
    },
    {
      "cell_type": "code",
      "execution_count": null,
      "id": "f752fd48",
      "metadata": {
        "trusted": false
      },
      "outputs": [],
      "source": "from IPython.core.display import HTML\nHTML('<img src=\"http://placekitten.com/120/120\">')"
    },
    {
      "cell_type": "code",
      "execution_count": null,
      "id": "3d9550f8",
      "metadata": {
        "trusted": false
      },
      "outputs": [],
      "source": "%%HTML\n<img src=\"http://placekitten.com/120/120\">"
    },
    {
      "cell_type": "code",
      "execution_count": null,
      "id": "a6ba28ff",
      "metadata": {
        "trusted": false
      },
      "outputs": [],
      "source": "from IPython.lib.display import YouTubeVideo\nYouTubeVideo('Awf45u6zrP0')"
    },
    {
      "cell_type": "markdown",
      "id": "e90d8d11",
      "metadata": {},
      "source": "---"
    },
    {
      "cell_type": "code",
      "execution_count": null,
      "id": "b6a68ab6",
      "metadata": {
        "trusted": false
      },
      "outputs": [],
      "source": "HTML(str(document.find(\"img\")))"
    },
    {
      "cell_type": "code",
      "execution_count": null,
      "id": "9f143daf",
      "metadata": {
        "trusted": false
      },
      "outputs": [],
      "source": "# another thing we may want to try out\n# is getting all of the links\nlinks = []\nfor i in document.find_all(\"a\"):\n    links.append(i['href'])\nlinks"
    },
    {
      "cell_type": "markdown",
      "id": "11265148-0553-4a91-88c7-b52648059ce6",
      "metadata": {},
      "source": "Ok, enough cat silliness..."
    },
    {
      "cell_type": "markdown",
      "id": "213578b3-0b06-41be-bb28-06233f83c304",
      "metadata": {},
      "source": "---"
    },
    {
      "cell_type": "markdown",
      "id": "64e96655-09a9-4ab4-be12-002903871d0f",
      "metadata": {},
      "source": "Back to our literary classics."
    },
    {
      "cell_type": "code",
      "execution_count": null,
      "id": "62bacd20-ec98-429d-b027-3562446c0832",
      "metadata": {
        "trusted": false
      },
      "outputs": [],
      "source": "response = requests.get('https://corgis-edu.github.io/corgis/csv/classics/')\nhtml_string = response.text\ndocument = BeautifulSoup(html_string, \"html.parser\")"
    },
    {
      "cell_type": "code",
      "execution_count": null,
      "id": "2c6e5460-c61e-4125-9f0c-900d2f645c79",
      "metadata": {
        "trusted": false
      },
      "outputs": [],
      "source": "# We can look for the first link:\n\ndocument.find('a')"
    },
    {
      "cell_type": "code",
      "execution_count": null,
      "id": "ab7bc9df-45f5-42b1-bb1b-806e923496af",
      "metadata": {
        "trusted": false
      },
      "outputs": [],
      "source": "# We can search for all the links on the page with:\n\ndocument.find_all('a')"
    },
    {
      "cell_type": "markdown",
      "id": "88cde9a9-b020-434f-b26b-488135f539c4",
      "metadata": {},
      "source": "This allows us now to find the download link for the csv file.\n* What are the \"..\"?  The \"..\" say to go up to a higher-level directory.  \n* Here, if the web page that we were visiting was https://corgis-edu.github.io/corgis/csv/classics/ and the link specification contained `href=\"../../datasets/csv/classics/classics.csv\"`, then the resulting link would be https://corgis-edu.github.io/corgis/csv/classics/../../datasets/csv/classics/classics.csv => https://corgis-edu.github.io/corgis/datasets/csv/classics/classics.csv"
    },
    {
      "cell_type": "code",
      "execution_count": null,
      "id": "544835fd",
      "metadata": {
        "trusted": false
      },
      "outputs": [],
      "source": "classicslinks = document.find_all('a')\nfor i in classicslinks:\n    print(i['href'])\n    print(i.text)\n    if i.text == 'classics.csv':\n        print('I found the link:')\n        print(i['href'])"
    },
    {
      "cell_type": "markdown",
      "id": "9a4f2d20",
      "metadata": {},
      "source": "Beware the whitespace!"
    },
    {
      "cell_type": "code",
      "execution_count": null,
      "id": "eb46af95",
      "metadata": {
        "trusted": false
      },
      "outputs": [],
      "source": "classicslinks = document.find_all('a')\nfor i in classicslinks:\n    print(i['href'])\n    print(i.text)\n    if i.text == 'classics.csv ':\n        print('I found the link:')\n        print(i['href'])"
    },
    {
      "cell_type": "code",
      "execution_count": null,
      "id": "510b6577",
      "metadata": {
        "trusted": false
      },
      "outputs": [],
      "source": "classicslinks = document.find_all('a')\nfor i in classicslinks:\n    if 'classics.csv' in i.text:\n        print('I found the link:')\n        print(i['href'])\n        url = 'https://corgis-edu.github.io/corgis/csv/classics/' + i['href']\n\nprint(url)"
    },
    {
      "cell_type": "code",
      "execution_count": null,
      "id": "66505b4c",
      "metadata": {
        "trusted": false
      },
      "outputs": [],
      "source": "classics_df = pd.read_csv(url)"
    },
    {
      "cell_type": "code",
      "execution_count": null,
      "id": "612ecdb3",
      "metadata": {
        "trusted": false
      },
      "outputs": [],
      "source": "classics_df"
    },
    {
      "cell_type": "code",
      "execution_count": null,
      "id": "6fec501c",
      "metadata": {
        "trusted": false
      },
      "outputs": [],
      "source": "classics_df.sort_values(by='metadata.downloads',ascending=True)[-10:].plot.barh(x='bibliography.title',y='metadata.downloads')"
    },
    {
      "cell_type": "markdown",
      "id": "e1f4baa3-d5f0-4c55-b975-23afc1eb43e8",
      "metadata": {},
      "source": "# A few more examples for practice"
    },
    {
      "cell_type": "markdown",
      "id": "f8853cef-21cc-4dd6-9b0b-b9a5cb74b207",
      "metadata": {},
      "source": "### Getting the script of Coco from IMSDB"
    },
    {
      "cell_type": "code",
      "execution_count": null,
      "id": "4a76bcd0-2220-467c-b9c0-140db5ebdce5",
      "metadata": {
        "trusted": false
      },
      "outputs": [],
      "source": "import requests"
    },
    {
      "cell_type": "code",
      "execution_count": null,
      "id": "bbd42292-e939-43d0-b9ca-d4934e55f164",
      "metadata": {
        "trusted": false
      },
      "outputs": [],
      "source": "response = requests.get('https://imsdb.com/scripts/Coco.html')"
    },
    {
      "cell_type": "code",
      "execution_count": null,
      "id": "bbdd62ab-0f5d-4d7a-9d59-d0fc5a9e0ce0",
      "metadata": {
        "trusted": false
      },
      "outputs": [],
      "source": "response"
    },
    {
      "cell_type": "code",
      "execution_count": null,
      "id": "58fe859d-3745-40bd-a307-573e24a0c875",
      "metadata": {
        "tags": [],
        "trusted": false
      },
      "outputs": [],
      "source": "response.text"
    },
    {
      "cell_type": "markdown",
      "id": "9bc0d2e8-bd74-4573-a87f-31df8be8786a",
      "metadata": {},
      "source": "Woah, too much!"
    },
    {
      "cell_type": "markdown",
      "id": "e48cb2a5-dff8-45e5-901d-deaac5bf0214",
      "metadata": {},
      "source": "We break it down with BeautifulSoup"
    },
    {
      "cell_type": "code",
      "execution_count": null,
      "id": "c4859200-46d1-48ee-bfc1-495047d45c00",
      "metadata": {
        "trusted": false
      },
      "outputs": [],
      "source": "from bs4 import BeautifulSoup"
    },
    {
      "cell_type": "code",
      "execution_count": null,
      "id": "007770ce-7673-47aa-843e-598f58bd018e",
      "metadata": {
        "trusted": false
      },
      "outputs": [],
      "source": "html_string = response.text\ndocument = BeautifulSoup(html_string, \"html.parser\")"
    },
    {
      "cell_type": "code",
      "execution_count": null,
      "id": "166e8516-4c79-4633-a2b7-a89cf82823d4",
      "metadata": {
        "scrolled": true,
        "tags": [],
        "trusted": false
      },
      "outputs": [],
      "source": "document"
    },
    {
      "cell_type": "markdown",
      "id": "a8dd3bce-fdd9-4d37-bd9c-8fc09cc58299",
      "metadata": {},
      "source": "`document` itself is still the original HTML"
    },
    {
      "cell_type": "code",
      "execution_count": null,
      "id": "3a85c7c0-02d9-48b2-9681-8c7fc0f1516e",
      "metadata": {
        "trusted": false
      },
      "outputs": [],
      "source": "type(document)"
    },
    {
      "cell_type": "code",
      "execution_count": null,
      "id": "3e364c4c-60dd-40d3-adc7-d1ea19428121",
      "metadata": {
        "tags": [],
        "trusted": false
      },
      "outputs": [],
      "source": "document.find('pre')"
    },
    {
      "cell_type": "markdown",
      "id": "46f40ec3-fbaa-43a0-a4ab-3eeea2040ff7",
      "metadata": {},
      "source": "There is still a lot of formatting to work through, but we have now found the screenplay text."
    },
    {
      "cell_type": "code",
      "execution_count": null,
      "id": "d4b0f932-b6fb-4de1-83af-6dac83359896",
      "metadata": {
        "tags": [],
        "trusted": false
      },
      "outputs": [],
      "source": "print(document.find('pre').text)"
    },
    {
      "cell_type": "markdown",
      "id": "7c39e1fa",
      "metadata": {},
      "source": "### Grabbing data from GitHub"
    },
    {
      "cell_type": "markdown",
      "id": "0c55671b",
      "metadata": {},
      "source": "Let's look at a problematic example.\n* This illustrates one complication you may run into:  dealing with dynamic content\n\nThe repository lists of the Pandas-relevant organization are linked on \"https://github.com/orgs/pandas-dev/repositories\".  Let's see about getting the links on that page in order to identify the organization's repositories."
    },
    {
      "cell_type": "code",
      "execution_count": null,
      "id": "d5a4f812",
      "metadata": {
        "trusted": false
      },
      "outputs": [],
      "source": "import requests"
    },
    {
      "cell_type": "code",
      "execution_count": null,
      "id": "c5ccd236",
      "metadata": {
        "trusted": false
      },
      "outputs": [],
      "source": "response = requests.get('https://github.com/orgs/pandas-dev/repositories')"
    },
    {
      "cell_type": "code",
      "execution_count": null,
      "id": "77aa6572",
      "metadata": {
        "trusted": false
      },
      "outputs": [],
      "source": "response"
    },
    {
      "cell_type": "code",
      "execution_count": null,
      "id": "7f13dfab",
      "metadata": {
        "tags": [],
        "trusted": false
      },
      "outputs": [],
      "source": "html_string = response.text"
    },
    {
      "cell_type": "code",
      "execution_count": null,
      "id": "11ee544d",
      "metadata": {
        "trusted": false
      },
      "outputs": [],
      "source": "from bs4 import BeautifulSoup"
    },
    {
      "cell_type": "code",
      "execution_count": null,
      "id": "1bf4c062",
      "metadata": {
        "trusted": false
      },
      "outputs": [],
      "source": "document = BeautifulSoup(html_string, \"html.parser\")"
    },
    {
      "cell_type": "code",
      "execution_count": null,
      "id": "ecf87525",
      "metadata": {
        "trusted": false
      },
      "outputs": [],
      "source": "document.find_all('a')"
    },
    {
      "cell_type": "code",
      "execution_count": null,
      "id": "e2fac34e",
      "metadata": {
        "tags": [],
        "trusted": false
      },
      "outputs": [],
      "source": "document"
    },
    {
      "cell_type": "markdown",
      "id": "87e85157",
      "metadata": {},
      "source": "One cannot simply use `requests` for this site.  The `requests` library is intended for static content, and it cannot directly handle dynamic content that is rendered by JavaScript in the browser. To scrape dynamic content, you'll need other libraries and tools, for example, `selenium`, `playwright`, or `scrapy`."
    },
    {
      "cell_type": "markdown",
      "id": "a9a0d3dd-de65-4a1a-a245-9e9e6a91aebc",
      "metadata": {},
      "source": "### Books To Scrape\n* https://books.toscrape.com/ -- a website that loves to be scraped!"
    },
    {
      "cell_type": "code",
      "execution_count": null,
      "id": "8ac0be12",
      "metadata": {
        "trusted": false
      },
      "outputs": [],
      "source": "url = 'http://books.toscrape.com/'"
    },
    {
      "cell_type": "code",
      "execution_count": null,
      "id": "a01eb9f6",
      "metadata": {
        "trusted": false
      },
      "outputs": [],
      "source": "# Send a GET request to the page\nresponse = requests.get(url)"
    },
    {
      "cell_type": "code",
      "execution_count": null,
      "id": "3a98d861",
      "metadata": {
        "trusted": false
      },
      "outputs": [],
      "source": "response"
    },
    {
      "cell_type": "code",
      "execution_count": null,
      "id": "f1303f41",
      "metadata": {
        "trusted": false
      },
      "outputs": [],
      "source": "# Parse the page content\nsoup = BeautifulSoup(response.text, 'html.parser')"
    },
    {
      "cell_type": "code",
      "execution_count": null,
      "id": "158030dc",
      "metadata": {
        "trusted": false
      },
      "outputs": [],
      "source": "# Find all book titles and their links\nbooks = soup.find_all('article', class_='product_pod')"
    },
    {
      "cell_type": "code",
      "execution_count": null,
      "id": "267617b7",
      "metadata": {
        "trusted": false
      },
      "outputs": [],
      "source": "books[0]"
    },
    {
      "cell_type": "code",
      "execution_count": null,
      "id": "ba10ae85",
      "metadata": {
        "trusted": false
      },
      "outputs": [],
      "source": "books[0].find('h3')"
    },
    {
      "cell_type": "code",
      "execution_count": null,
      "id": "833b16f3",
      "metadata": {
        "trusted": false
      },
      "outputs": [],
      "source": "books[0].h3"
    },
    {
      "cell_type": "code",
      "execution_count": null,
      "id": "668c1cc8",
      "metadata": {
        "trusted": false
      },
      "outputs": [],
      "source": "books[0].a"
    },
    {
      "cell_type": "code",
      "execution_count": null,
      "id": "99ca20ea",
      "metadata": {
        "trusted": false
      },
      "outputs": [],
      "source": "for book in books:\n    title = book.a.img['alt']\n    link = book.a['href']\n    print(\"Title: \", title, \", Link: \", url + link)"
    },
    {
      "cell_type": "code",
      "execution_count": null,
      "id": "eb43769c",
      "metadata": {
        "trusted": false
      },
      "outputs": [],
      "source": "books[0].find('p', attrs={'class':\"price_color\"})"
    },
    {
      "cell_type": "code",
      "execution_count": null,
      "id": "7a8aeeaa",
      "metadata": {
        "trusted": false
      },
      "outputs": [],
      "source": "books[0].find('p', attrs={'class':\"price_color\"}).text"
    },
    {
      "cell_type": "code",
      "execution_count": null,
      "id": "90db83a9",
      "metadata": {
        "trusted": false
      },
      "outputs": [],
      "source": "for book in books:\n    title = book.h3.a['title']\n    price = book.find('p', attrs={'class':\"price_color\"}).text\n    print(title, \": \", price[1:])"
    }
  ],
  "metadata": {
    "kernelspec": {
      "display_name": "Python 3 (ipykernel)",
      "language": "python",
      "name": "python3"
    },
    "language_info": {
      "codemirror_mode": {
        "name": "ipython",
        "version": 3
      },
      "file_extension": ".py",
      "mimetype": "text/x-python",
      "name": "python",
      "nbconvert_exporter": "python",
      "pygments_lexer": "ipython3",
      "version": "3.11.6"
    }
  },
  "nbformat": 4,
  "nbformat_minor": 5
}