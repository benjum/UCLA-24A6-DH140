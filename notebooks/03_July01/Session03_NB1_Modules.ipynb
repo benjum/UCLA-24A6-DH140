{
  "cells": [
    {
      "cell_type": "markdown",
      "id": "ac8f44e7-55b2-4a99-8964-c6842c39a785",
      "metadata": {},
      "source": "# Methods (refresher) and Modules\n\nThis replicates the end of the Python fundamentals notebook so we can wrap up that content.\n\n---"
    },
    {
      "cell_type": "markdown",
      "id": "1861f211-ae59-4e29-948c-88e34049d9c6",
      "metadata": {},
      "source": "Variables in Python are actually objects (yes, in the object-oriented sense of object).\n\nPython variables can therefore have attributes and methods associated with them."
    },
    {
      "cell_type": "code",
      "execution_count": null,
      "id": "98eb0ff1-3fd3-487a-a626-36edc6192c3e",
      "metadata": {
        "trusted": true
      },
      "outputs": [],
      "source": "numbers = [1, 1, 2, 3, 5, 8]"
    },
    {
      "cell_type": "code",
      "execution_count": null,
      "id": "4f0b267d-8532-4988-94bb-39347e81ca3d",
      "metadata": {
        "trusted": true
      },
      "outputs": [],
      "source": "type(numbers)"
    },
    {
      "cell_type": "code",
      "execution_count": null,
      "id": "11aef6c6-1a05-410c-a506-605707853577",
      "metadata": {
        "trusted": true
      },
      "outputs": [],
      "source": "numbers.index(5)"
    },
    {
      "cell_type": "markdown",
      "id": "0f85726f-16e9-487f-88eb-85819f2a9da5",
      "metadata": {},
      "source": "The `.` notation is used to denote that we are using the `index` method associated with the `numbers` list variable, and passing `5` as the input parameter to that method.\n\nIt tells us that the value `5` is in the `numbers` list at index 4."
    },
    {
      "cell_type": "code",
      "execution_count": null,
      "id": "3b2786ef-ce82-4c09-b14a-f76dedd35bb7",
      "metadata": {
        "trusted": true
      },
      "outputs": [],
      "source": "numbers[4]"
    },
    {
      "cell_type": "markdown",
      "id": "4f85dcdd-9106-42f7-ad44-7aa579c38b3d",
      "metadata": {},
      "source": "The `reverse` method will reverse the elements in-place."
    },
    {
      "cell_type": "code",
      "execution_count": null,
      "id": "17713577-8fb1-4e2c-ab03-2d5ff9fdd48c",
      "metadata": {
        "trusted": true
      },
      "outputs": [],
      "source": "numbers.reverse()"
    },
    {
      "cell_type": "code",
      "execution_count": null,
      "id": "88ff4551-a7fd-47f4-9d10-68a2e6668b3c",
      "metadata": {
        "trusted": true
      },
      "outputs": [],
      "source": "numbers"
    },
    {
      "cell_type": "markdown",
      "id": "cd5cbeba-31df-4917-abe9-d95ef6881496",
      "metadata": {},
      "source": "Strings and dictionaries also have methods."
    },
    {
      "cell_type": "code",
      "execution_count": null,
      "id": "7c07dfbf-b1d5-4275-8571-7eeb61cc73cd",
      "metadata": {
        "trusted": true
      },
      "outputs": [],
      "source": "# 'split' splits a string into a list of elements\n# the splitting happens by default on whitespace\n\n'My name is Ben'.split()"
    },
    {
      "cell_type": "code",
      "execution_count": null,
      "id": "523cacce-d10d-43d8-8f88-b22599485223",
      "metadata": {
        "trusted": true
      },
      "outputs": [],
      "source": "# 'join' is a string method that creates a single string from a list\n\n'-'.join(['Combo','words','are','in','this','list'])"
    },
    {
      "cell_type": "markdown",
      "id": "49559b94-a4aa-4231-a923-77505f605440",
      "metadata": {},
      "source": "## Modules"
    },
    {
      "cell_type": "markdown",
      "id": "8a0267dd-d355-4891-9766-c3ba923581ae",
      "metadata": {},
      "source": "A lot of coders have written Python code, and there is a lot of openly available code that they have made available for us to reuse.\n\nMuch of this code comes in the form of libraries and modules."
    },
    {
      "cell_type": "code",
      "execution_count": null,
      "id": "26ab68c8-222f-4e17-8e3d-796adc11c03c",
      "metadata": {
        "trusted": true
      },
      "outputs": [],
      "source": "# Example:\n\n# retrieve the `math` module\nimport math\n\n# use constants stored in the module\nprint('pi = ', math.pi)\n\n# use functions written in the module\nprint('The value of sin(pi/2) is', math.sin(math.pi/2))"
    },
    {
      "cell_type": "markdown",
      "id": "9f56c3eb-87d3-434c-a813-5d71eadecdb8",
      "metadata": {},
      "source": "Some code comes standard with every Python installation.  Other code needs to be retrieved and installed.  However, once you have the code, it can dramatically expand your coding capabilities.\n\nModules allow us to use externally developed code.\n* A module is a group of code items such as functions that are related to one another. Individual modules are often grouped together as a library.\n* Modules can be loaded using `import <modulename>`. \n* Functions that are part of the module `modulename` can then be used by typing `modulename.functionname()`. \n  * For example, `sin()` is a function that is part of the `math` module\n  * We can use to by typing `math.sin()` with some number between the parentheses.\n* Modules may also contain constants in addition to functions.\n  * The `math` module includes a constant for $\\pi$ -- `math.pi`"
    },
    {
      "cell_type": "markdown",
      "id": "8b35322c-f2f5-4acf-b505-e34ac323b602",
      "metadata": {},
      "source": "## Using other libraries"
    },
    {
      "cell_type": "markdown",
      "id": "b5a9f6ff-2e07-467f-9ef7-bd4156525793",
      "metadata": {},
      "source": "We actually know enough Python now that we could follow along with some commands to use other libraries:"
    },
    {
      "cell_type": "markdown",
      "id": "0453f1b5",
      "metadata": {},
      "source": "## Pandas"
    },
    {
      "cell_type": "markdown",
      "id": "2f0e02eb",
      "metadata": {},
      "source": "We can use a module called Pandas to retrieve data from the CORGIS website (The Collection of Really Great, Interesting, Situated Datasets)!\n\nSpecifically, we are going to retrieve a dataset from their collection of CSV files (Comma-Separated Value files)\n* https://corgis-edu.github.io/corgis/csv/\n\n`classics.csv` is accessible at https://corgis-edu.github.io/corgis/datasets/csv/classics/classics.csv\n\nIf you look at the page for the [classics dataset](https://corgis-edu.github.io/corgis/csv/classics/), you'll see a download link, and by right-clicking on that link and copying the link address, you can find it to be the same as shown above."
    },
    {
      "cell_type": "code",
      "execution_count": null,
      "id": "877d433b",
      "metadata": {
        "trusted": true
      },
      "outputs": [],
      "source": "# Import the module here so we have access to all its functionality\n# We give it the alias \"pd\" because that is how the module is commonly used\nimport pandas as pd"
    },
    {
      "cell_type": "code",
      "execution_count": null,
      "id": "82cecc7d",
      "metadata": {
        "trusted": true
      },
      "outputs": [],
      "source": "# Read the data contained in 'classics.csv' into a variable named classics_data\nclassics_data = pd.read_csv('https://corgis-edu.github.io/corgis/datasets/csv/classics/classics.csv')"
    },
    {
      "cell_type": "code",
      "execution_count": null,
      "id": "26ce2b2a",
      "metadata": {
        "trusted": true
      },
      "outputs": [],
      "source": "# How can we find out what type of data \"classics_data\" is?\n\n"
    },
    {
      "cell_type": "code",
      "execution_count": null,
      "id": "d3600232",
      "metadata": {
        "trusted": true
      },
      "outputs": [],
      "source": "# The following method will show us the first 5 records in classics_data\nclassics_data.head()"
    },
    {
      "cell_type": "code",
      "execution_count": null,
      "id": "3d7d5fd1",
      "metadata": {
        "trusted": true
      },
      "outputs": [],
      "source": "# We can use pandas to make visualizations too\nclassics_data.hist('metrics.statistics.average letter per word',bins=100)"
    },
    {
      "cell_type": "markdown",
      "id": "737eca64",
      "metadata": {},
      "source": "## To be continued...."
    }
  ],
  "metadata": {
    "kernelspec": {
      "display_name": "Python 3 (ipykernel)",
      "language": "python",
      "name": "python3"
    },
    "language_info": {
      "codemirror_mode": {
        "name": "ipython",
        "version": 3
      },
      "file_extension": ".py",
      "mimetype": "text/x-python",
      "name": "python",
      "nbconvert_exporter": "python",
      "pygments_lexer": "ipython3",
      "version": "3.11.6"
    }
  },
  "nbformat": 4,
  "nbformat_minor": 5
}