{
  "cells": [
    {
      "cell_type": "markdown",
      "id": "5575f363-5ae5-4c67-a458-7d411e33320c",
      "metadata": {},
      "source": "# Python essentials"
    },
    {
      "cell_type": "markdown",
      "id": "f12c0824-5f23-40e6-9ef0-6db540b09132",
      "metadata": {},
      "source": "Python is a powerful language with many useful features.  The following introduces core concepts to get us up and running.\n* It is meant to be used in tandem with the \"PythonDickens\" notebook.\n* And is therefore a bit out-of-order relative to what you'll find in programming texts."
    },
    {
      "cell_type": "markdown",
      "id": "46733787",
      "metadata": {},
      "source": "## Strings\n* an ordered collection of characters\n* delineated with quote marks (', \", ''', \"\"\")\n\nAll of the following are examples of strings:"
    },
    {
      "cell_type": "code",
      "execution_count": null,
      "id": "ae49f44e",
      "metadata": {
        "trusted": true
      },
      "outputs": [],
      "source": "'Arthur'"
    },
    {
      "cell_type": "code",
      "execution_count": null,
      "id": "a0f87a5b",
      "metadata": {
        "trusted": true
      },
      "outputs": [],
      "source": "\"Arthur\""
    },
    {
      "cell_type": "code",
      "execution_count": null,
      "id": "649d5f51",
      "metadata": {
        "trusted": true
      },
      "outputs": [],
      "source": "'''Arthur'''"
    },
    {
      "cell_type": "code",
      "execution_count": null,
      "id": "0d019aff",
      "metadata": {
        "trusted": true
      },
      "outputs": [],
      "source": "\"\"\"Arthur\"\"\""
    },
    {
      "cell_type": "code",
      "execution_count": null,
      "id": "df01874a",
      "metadata": {
        "trusted": true
      },
      "outputs": [],
      "source": "name = 'Arthur'"
    },
    {
      "cell_type": "code",
      "execution_count": null,
      "id": "5400a79a",
      "metadata": {
        "trusted": true
      },
      "outputs": [],
      "source": "name"
    },
    {
      "cell_type": "markdown",
      "id": "c3100b38",
      "metadata": {},
      "source": "We can double-check the datatype of any variable by using Python's built-in `type` function."
    },
    {
      "cell_type": "code",
      "execution_count": null,
      "id": "0c60fd5e",
      "metadata": {
        "trusted": true
      },
      "outputs": [],
      "source": "type(name)"
    },
    {
      "cell_type": "markdown",
      "id": "a34a30d5",
      "metadata": {},
      "source": "There are two things that we need to pause and talk about:\n* variables\n* functions"
    },
    {
      "cell_type": "markdown",
      "id": "e86afd69-be75-44ee-bf11-084c1daef5ed",
      "metadata": {},
      "source": "## Variables and literals"
    },
    {
      "cell_type": "markdown",
      "id": "2d9731f5-7a77-41ee-906b-41248a6be97b",
      "metadata": {},
      "source": "A variable is a named location in memory.  For example:"
    },
    {
      "cell_type": "code",
      "execution_count": null,
      "id": "671b1526-5ee5-4bda-b399-aba38721bc60",
      "metadata": {
        "trusted": true
      },
      "outputs": [],
      "source": "a = 42"
    },
    {
      "cell_type": "markdown",
      "id": "972d54ba-196c-41c9-95c6-300519dabe2a",
      "metadata": {},
      "source": "`a` is the variable, and its value is now set to 42."
    },
    {
      "cell_type": "code",
      "execution_count": null,
      "id": "7f8eb977-2e09-4ebc-9ae4-aefbf5c0aa83",
      "metadata": {
        "trusted": true
      },
      "outputs": [],
      "source": "print(a)"
    },
    {
      "cell_type": "markdown",
      "id": "20daef58-3d09-4d92-8f99-a0402d2a59ef",
      "metadata": {},
      "source": "Note that variables do not need to be defined with a specific type in Python.\n\nAlso, in Jupyter notebooks, the value of a variable will be output if the variable sits alone on the last line of a cell."
    },
    {
      "cell_type": "code",
      "execution_count": null,
      "id": "97149e65-1881-4fab-9fce-f7587adff061",
      "metadata": {
        "trusted": true
      },
      "outputs": [],
      "source": "a"
    },
    {
      "cell_type": "code",
      "execution_count": null,
      "id": "e4f01ca0-509c-4b69-b98a-3c0ae93ce12c",
      "metadata": {
        "trusted": true
      },
      "outputs": [],
      "source": "a = \"forty two\""
    },
    {
      "cell_type": "code",
      "execution_count": null,
      "id": "ed92491c-fd80-4171-bc96-6a66aaf7427d",
      "metadata": {
        "trusted": true
      },
      "outputs": [],
      "source": "print('The print function can take two or more input parameters: a =', a)"
    },
    {
      "cell_type": "markdown",
      "id": "e93f9dbb",
      "metadata": {},
      "source": "## Functions, part 1"
    },
    {
      "cell_type": "markdown",
      "id": "8840b534",
      "metadata": {},
      "source": "A **function** is a self-contained piece of code that performs a specific task.\n\nYou use it with:\n* *func_name*(*arg1*, *arg2*, ...)\n* *func_name* is the name of the function\n* *arg1*, *arg2*, etc. are data that the function uses to carry out its task\n* \"(\" and \")\" notify Python that this is a function and specify where the argument list begins and ends"
    },
    {
      "cell_type": "markdown",
      "id": "e2da07b4",
      "metadata": {},
      "source": "We've already used two functions: `type` and `print`"
    },
    {
      "cell_type": "code",
      "execution_count": null,
      "id": "0d37869b",
      "metadata": {
        "trusted": true
      },
      "outputs": [],
      "source": "type(name)"
    },
    {
      "cell_type": "code",
      "execution_count": null,
      "id": "cad0ab5c",
      "metadata": {
        "trusted": true
      },
      "outputs": [],
      "source": "print(name)"
    },
    {
      "cell_type": "markdown",
      "id": "c0039325",
      "metadata": {},
      "source": "`print` is like `type` -- both of them are functions that are built into Python and that we can use whenever we want without having to write any additional code."
    },
    {
      "cell_type": "markdown",
      "id": "1a87f4b1",
      "metadata": {},
      "source": "There are many built-in functions.  Another useful one for strings is `len`: "
    },
    {
      "cell_type": "code",
      "execution_count": null,
      "id": "866e4647",
      "metadata": {
        "trusted": true
      },
      "outputs": [],
      "source": "len(name)"
    },
    {
      "cell_type": "markdown",
      "id": "ded9a816",
      "metadata": {},
      "source": "Here's the documentation for `len`:\n* https://python.readthedocs.io/en/stable/library/functions.html#len\n\nThis reference manual contains WAY more information than you may want at the moment, but it is comprehensive and authoritative for any given version of Python."
    },
    {
      "cell_type": "markdown",
      "id": "91efb14e",
      "metadata": {},
      "source": "Many built-in functions can be used for different types of data."
    },
    {
      "cell_type": "code",
      "execution_count": null,
      "id": "403c2a1c",
      "metadata": {
        "trusted": true
      },
      "outputs": [],
      "source": "print(6)"
    },
    {
      "cell_type": "code",
      "execution_count": null,
      "id": "9aff1703",
      "metadata": {
        "trusted": true
      },
      "outputs": [],
      "source": "print('6')"
    },
    {
      "cell_type": "markdown",
      "id": "2eaaebd2",
      "metadata": {},
      "source": "`6` is an integer (the representation of whole number) while `'6'` is a string consisting of the character \"6\""
    },
    {
      "cell_type": "code",
      "execution_count": null,
      "id": "d578d8cc",
      "metadata": {
        "trusted": true
      },
      "outputs": [],
      "source": "type(6)"
    },
    {
      "cell_type": "code",
      "execution_count": null,
      "id": "3cc665ed",
      "metadata": {
        "trusted": true
      },
      "outputs": [],
      "source": "type('6')"
    },
    {
      "cell_type": "code",
      "execution_count": null,
      "id": "a3009816",
      "metadata": {
        "trusted": true
      },
      "outputs": [],
      "source": "type('6.2')"
    },
    {
      "cell_type": "code",
      "execution_count": null,
      "id": "d0634031",
      "metadata": {
        "trusted": true
      },
      "outputs": [],
      "source": "type(6.2)"
    },
    {
      "cell_type": "markdown",
      "id": "753c3f4b",
      "metadata": {},
      "source": "There are two basic types of numbers in Python: integers and floats.\n* Integers are whole numbers\n* Floats are real numbers (they have decimal points and can represent fractions)\n\nIt is straight-forward to do basic mathematical operations on these numbers:"
    },
    {
      "cell_type": "markdown",
      "id": "b8cd6c5e-82bf-4a67-8eb7-bcd9573f68cc",
      "metadata": {},
      "source": "## Operators"
    },
    {
      "cell_type": "markdown",
      "id": "c04fb452-b02f-4092-9259-93aab13ceac7",
      "metadata": {},
      "source": "Python has standard arithmetic operators for common math operations:"
    },
    {
      "cell_type": "code",
      "execution_count": null,
      "id": "96d00090",
      "metadata": {
        "trusted": true
      },
      "outputs": [],
      "source": "x = 42\ny = 24"
    },
    {
      "cell_type": "code",
      "execution_count": null,
      "id": "57f8e05e",
      "metadata": {
        "trusted": true
      },
      "outputs": [],
      "source": "x+y"
    },
    {
      "cell_type": "code",
      "execution_count": null,
      "id": "54158669",
      "metadata": {
        "trusted": true
      },
      "outputs": [],
      "source": "x-y"
    },
    {
      "cell_type": "code",
      "execution_count": null,
      "id": "097f392a",
      "metadata": {
        "trusted": true
      },
      "outputs": [],
      "source": "x*y"
    },
    {
      "cell_type": "code",
      "execution_count": null,
      "id": "668f87a5",
      "metadata": {
        "trusted": true
      },
      "outputs": [],
      "source": "x/y"
    },
    {
      "cell_type": "code",
      "execution_count": null,
      "id": "365c47ab-0eb7-4249-beaf-9e826ebf21f9",
      "metadata": {
        "trusted": true
      },
      "outputs": [],
      "source": "x = 42\ny = 24\n\n# Add two operands\nprint('x + y =', x+y) # Output: x + y = 66\n\n# Subtract right operand from the left\nprint('x - y =', x-y) # Output: x - y = 18\n\n# Multiply two operands\nprint('x * y =', x*y) # Output: x * y = 1008\n\n# Divide left operand by the right one \nprint('x / y =', x/y) # Output: x / y = 1.75\n\n# Floor division (quotient)\nprint('x // y =', x//y) # Output: x // y = 1\n\n# Remainder of the division of left operand by the right\nprint('x % y =', x%y) # Output: x % y = 18\n\n# Left operand raised to the power of right (x^y)\nprint('x ** y =', x**y) # Output: x ** y = 907784931546351634835748413459499319296"
    },
    {
      "cell_type": "markdown",
      "id": "9d7a9b26-2d13-4b47-9d66-a9e45da0290f",
      "metadata": {},
      "source": "# Comments"
    },
    {
      "cell_type": "markdown",
      "id": "f3b1e019-78e6-47da-95dd-6bdd95005703",
      "metadata": {},
      "source": "As you see above, Python has special notation for comments:"
    },
    {
      "cell_type": "code",
      "execution_count": null,
      "id": "ed7916f0-8bd1-42bc-929d-82f523a03a79",
      "metadata": {
        "trusted": true
      },
      "outputs": [],
      "source": "# This is a single line comment"
    },
    {
      "cell_type": "code",
      "execution_count": null,
      "id": "886af47c-f216-4d55-9ee4-c0550e14edda",
      "metadata": {
        "trusted": true
      },
      "outputs": [],
      "source": "# A two line\n# comment"
    },
    {
      "cell_type": "code",
      "execution_count": null,
      "id": "51f152a5-8bf2-43b9-bf80-4b11b5e1d00c",
      "metadata": {
        "trusted": true
      },
      "outputs": [],
      "source": "# Adding and removing comments can be useful\n# for adding notes\n# as well as other things like prototyping code\n'''\nA multi-line string\nfor printing \nprint('Hi')\n# print('Bye')\n'''\nprint('Bye')"
    },
    {
      "cell_type": "markdown",
      "id": "21d5a564",
      "metadata": {},
      "source": "---\n### Back to Dickens notebook\n---"
    },
    {
      "cell_type": "markdown",
      "id": "935820da",
      "metadata": {},
      "source": "## Methods, the functions associated with variables\nVariables themselves can appear to have specific functions associated with them too."
    },
    {
      "cell_type": "markdown",
      "id": "b6d6fd7c",
      "metadata": {},
      "source": "This is normally a little more advanced topic than we want to introduce for introductory Python.... but.... all Python variables are considered to be \"objects\" -- in object-oriented programming, this means that all Python variables can have specific functions associated with them."
    },
    {
      "cell_type": "markdown",
      "id": "6a1af134",
      "metadata": {},
      "source": "This is useful for us here because the methods make it easier to do common tasks on strings.  Like split them up into phrases and words!"
    },
    {
      "cell_type": "code",
      "execution_count": null,
      "id": "29844192",
      "metadata": {
        "trusted": true
      },
      "outputs": [],
      "source": "sentence = 'It was the best of times, it was the worst of times'"
    },
    {
      "cell_type": "code",
      "execution_count": null,
      "id": "143654c8",
      "metadata": {
        "trusted": true
      },
      "outputs": [],
      "source": "sentence.split()"
    },
    {
      "cell_type": "markdown",
      "id": "54b10ce2",
      "metadata": {},
      "source": "In contrast to built-in functions, strings have functions of their own.  Most Python variables will have special functions of their own.  These are called methods.\n\nTo use a method, we put a `.` after the variable name and follow that with the method name.\n\nExample: `sentence.split()` tells Python to:\n* use the string-specific `split` method\n  * i.e. the function called `split` that is specific to strings\n* use it specifically on the string stored in the variable called `sentence`"
    },
    {
      "cell_type": "markdown",
      "id": "163a7421",
      "metadata": {},
      "source": "Methods are just like functions:\n* you have to use them with `()`\n* they can take input"
    },
    {
      "cell_type": "code",
      "execution_count": null,
      "id": "a709d588",
      "metadata": {
        "trusted": true
      },
      "outputs": [],
      "source": "sentence.split(',')"
    },
    {
      "cell_type": "markdown",
      "id": "d69fc06e",
      "metadata": {},
      "source": "* `str.split()` will split a string up into individual elements, based on the value between parantheses.\n* https://python.readthedocs.io/en/stable/library/stdtypes.html#str.split\n* No value between parentheses?  Then the method uses a default value.  For `split`, the default is to break a string up based on the location of whitespace."
    },
    {
      "cell_type": "code",
      "execution_count": null,
      "id": "b5d86d2a",
      "metadata": {
        "trusted": true
      },
      "outputs": [],
      "source": "print(sentence)\nprint(sentence.split())"
    },
    {
      "cell_type": "markdown",
      "id": "f8679b86-d991-44b7-a1c5-c35db5cf236a",
      "metadata": {},
      "source": "## Data structures"
    },
    {
      "cell_type": "markdown",
      "id": "d8fc76a5-2de8-41ba-a654-7c47018688ca",
      "metadata": {},
      "source": "We will commonly use strings in Python.  This is one type of data, with each string consisting of a collection of characters.\n\nThere are two other common data structures in Python that we'll use to handle collections of elements: \n* lists\n* dictionaries\n\n[There are others too which we won't use as much: tuples, sets, ...]"
    },
    {
      "cell_type": "markdown",
      "id": "7863179e-dd1b-4054-85aa-8587f8afa44d",
      "metadata": {},
      "source": "### Lists"
    },
    {
      "cell_type": "code",
      "execution_count": null,
      "id": "d6079da4-3a64-489a-8670-04af6f5c736f",
      "metadata": {
        "trusted": true
      },
      "outputs": [],
      "source": "# empty list\nmy_list = []\n\n# list of integers\nmy_list = [1, 2, 5]\n\n# list with mixed data types\nmy_list = [1, \"Parrot\", 3.14159]"
    },
    {
      "cell_type": "markdown",
      "id": "fdf2ab47-39e9-4267-b16f-92ca34ea7a7c",
      "metadata": {},
      "source": "* List\n    * an ordered collection of elements\n    * elements are placed in square brackets `[]` and separated by commas\n    * they can have elements of different types\n* Accessing elements\n    * the index operator `[]` with an integer index will retrieve an element at that index\n    * numbering of elements starts with 0\n    * negative indices can be used to count from the end of the list"
    },
    {
      "cell_type": "code",
      "execution_count": null,
      "id": "893069a3-1e42-445b-888c-ee46eee17ad0",
      "metadata": {
        "trusted": true
      },
      "outputs": [],
      "source": "riddles = [\"Lancelot\", \"Holy Grail\", \"Blue\", \"Southwest\"]\n\n# Accessing first element\nprint(riddles[0])\n\n# Accessing fourth element\nprint(riddles[3])"
    },
    {
      "cell_type": "markdown",
      "id": "fbb4a2d5-44e2-4c76-b638-3fa61105943f",
      "metadata": {},
      "source": "### Dictionaries"
    },
    {
      "cell_type": "code",
      "execution_count": null,
      "id": "a2212dc8-7ae4-423a-ae3b-1a1ccd024f8a",
      "metadata": {
        "trusted": true
      },
      "outputs": [],
      "source": "# empty dictionary\nmy_dict = {}\n\n# dictionary with integer keys\nmy_dict = {1: 'red', 2: 'blue'}\n\n# dictionary with mixed keys\nmy_dict = {'name': 'Arthur', 1: [1, 2, 5]}"
    },
    {
      "cell_type": "markdown",
      "id": "57755b06-28a6-4bd2-adfd-9778d6124ee3",
      "metadata": {},
      "source": "* Dictionary\n    * an unordered collection of elements\n    * elements consist of `key: value` pairs\n    * elements are placed in curly braces `{}` and separated by commas\n    * they can have elements of different types\n    * the index operator `[]` with a key index will retrieve the value corresponding to that key    "
    },
    {
      "cell_type": "code",
      "execution_count": null,
      "id": "4f6288f7-d9d1-49e3-bc09-8b84451ee646",
      "metadata": {
        "trusted": true
      },
      "outputs": [],
      "source": "person = {'name':'Gwen', 'age': 26, 'salary': 94534.2}\nprint(person['age'])"
    },
    {
      "cell_type": "code",
      "execution_count": null,
      "id": "dbd00feb-1607-4e8a-8b52-46d9753f7083",
      "metadata": {
        "trusted": true
      },
      "outputs": [],
      "source": "person = {'name':'Gwen', 'age': 26}\n\n# Changing age to 36\nperson['age'] = 36 \nprint(person) # Output: {'name': 'Gwen', 'age': 36}\n\n# Adding salary key, value pair\nperson['salary'] = 94342.4\nprint(person) # Output: {'name': 'Gwen', 'age': 36, 'salary': 94342.4}\n\n# Deleting age\ndel person['age']\nprint(person) # Output: {'name': 'Gwen', 'salary': 94342.4}\n\n# Deleting entire dictionary\ndel person"
    },
    {
      "cell_type": "markdown",
      "id": "570b083e",
      "metadata": {},
      "source": "### Strings\n* an ordered collection of characters\n* delineated with quote marks (', \", ''', \"\"\")\n* immutable\n* similar to lists and dictionaries, subsets of the character collection can be retrieved with the index operator `[]`\n\nAll of the following are examples of strings:"
    },
    {
      "cell_type": "code",
      "execution_count": null,
      "id": "819b43ac",
      "metadata": {
        "trusted": true
      },
      "outputs": [],
      "source": "my_string = 'Arthur'\nprint(my_string)\n\nmy_string = \"Arthur\"\nprint(my_string)\n\nmy_string = '''Arthur'''\nprint(my_string)\n\n# triple quotes string can extend multiple lines\nmy_string = \"\"\"Hello, Arthur, welcome to\n           the world of [Monty] Python\"\"\"\nprint(my_string)"
    },
    {
      "cell_type": "code",
      "execution_count": null,
      "id": "00b42bd4",
      "metadata": {
        "trusted": true
      },
      "outputs": [],
      "source": "str0 = 'e.t. phone home!'\nprint('str0 = ', str0) # Output: e.t. phone home!\n\nprint('str0[0] = ', str0[0]) # Output: e\n\nprint('str0[-1] = ', str0[-1]) # Output: !"
    },
    {
      "cell_type": "markdown",
      "id": "925acbe3",
      "metadata": {},
      "source": "Accessing elements:\n* Single elements:\n  * use square brackets and the corresponding index or key (remember that ordered indices start from 0)\n* Multiple elements in order [**slicing**]:\n  * use square brackets and the start and stop index with `<start>:<end>`\n  * the element at index `<end>` is not included among the retrieved elements\n  * number of retrieved elements is `<end>` - `<start>`\n  * you can leave out `<start>`, `<end>`, or both to start at the beginning or end at the end"
    },
    {
      "cell_type": "code",
      "execution_count": null,
      "id": "6e95bc85-2110-4df9-99b6-2c3c3af18193",
      "metadata": {
        "trusted": true
      },
      "outputs": [],
      "source": "#slicing 2nd to 5th character\nprint('str0[1:5] = ', str0[1:5]) # Output: .t.\n\n#slicing 6th to 2nd last character\nprint('str0[5:-2] = ', str0[5:-2]) # Output: phone hom\n\n#slicing 6th to last character\nprint('str0[5:] = ', str0[5:]) # Output: phone home!"
    },
    {
      "cell_type": "markdown",
      "id": "4f9e3ff6-a080-47e7-b39d-61c80ed37771",
      "metadata": {},
      "source": "You can use the operators `+` and `*` to concatenate and duplicate strings:"
    },
    {
      "cell_type": "code",
      "execution_count": null,
      "id": "c5da912d-0bde-4fac-aae3-a61268dcbeeb",
      "metadata": {
        "trusted": true
      },
      "outputs": [],
      "source": "str1 = 'Phone '\nstr2 = 'Home!'\n\n# Output: Phone Home!\nprint(str1 + str2)\n\n# Phone Phone Phone\nprint(str1 * 3)"
    },
    {
      "cell_type": "markdown",
      "id": "36a12053-77d7-4ef7-9ad7-1bdc295395ae",
      "metadata": {},
      "source": "<div class=\"alert alert-info\">\n\n<b>Your turn:</b>\n\n1. Make a list, a dictionary, and a string, each with 5+ elements\n2. Retrieve elements from these variables using the appropriate indexing.\n\n</div>"
    },
    {
      "cell_type": "code",
      "execution_count": null,
      "id": "ba0d0e8a-141d-4a1f-bba3-e58190eb6512",
      "metadata": {
        "trusted": true
      },
      "outputs": [],
      "source": ""
    },
    {
      "cell_type": "code",
      "execution_count": null,
      "id": "757f9eff-e5bf-46e8-86d3-f3d0d3e6c3ff",
      "metadata": {
        "trusted": true
      },
      "outputs": [],
      "source": ""
    },
    {
      "cell_type": "code",
      "execution_count": null,
      "id": "0e3a6b99-9040-4f9b-9676-e2d1ed16f727",
      "metadata": {
        "trusted": true
      },
      "outputs": [],
      "source": ""
    },
    {
      "cell_type": "markdown",
      "id": "726b64ab",
      "metadata": {},
      "source": "---\n### Back to Dickens notebook\n---"
    },
    {
      "cell_type": "markdown",
      "id": "c2164407-a9de-4361-8a4a-089417bbb051",
      "metadata": {},
      "source": "## Flow control"
    },
    {
      "cell_type": "markdown",
      "id": "e67c2fdd",
      "metadata": {},
      "source": "### for loops"
    },
    {
      "cell_type": "markdown",
      "id": "f23d8280",
      "metadata": {},
      "source": "In Python, a `for` loop is used to iterate over a sequence (list, string, etc) or other iterable objects."
    },
    {
      "cell_type": "markdown",
      "id": "c596ca8c",
      "metadata": {},
      "source": "The general syntax is:\n\n```\nfor *var_name* in *collection_of_items*:\n    *command1*\n    *command2*\n     ...\n```\n\nIn `for` loops (or functions, or `if` statements, ...) Python requires you to:\n1. start with a line of text\n2. end that line of text with a `:`\n3. start the next line with an indentation."
    },
    {
      "cell_type": "code",
      "execution_count": null,
      "id": "96765f5f",
      "metadata": {
        "trusted": true
      },
      "outputs": [],
      "source": "for i in [0,1,2,3,4]:\n    print(i)"
    },
    {
      "cell_type": "markdown",
      "id": "4a1f9a5f",
      "metadata": {},
      "source": "`for` loops can be used to iterate a given number of times with the special function `range`:\n* `range(n)` returns a sequence of numbers from 0 to n (n not included)\n* `range(n,m)` returns a sequence of numbers from n to m (m not included)\n* `range(n,m,i)` returns a sequence of numbers from n to m (m not included) with an interval of i between numbers"
    },
    {
      "cell_type": "code",
      "execution_count": null,
      "id": "ee071042",
      "metadata": {
        "trusted": true
      },
      "outputs": [],
      "source": "for i in range(5):\n    print(i)"
    },
    {
      "cell_type": "code",
      "execution_count": null,
      "id": "2599bfd8",
      "metadata": {
        "trusted": true
      },
      "outputs": [],
      "source": "for i in range(5):\n    print(i)\n    print('Are we there yet?')"
    },
    {
      "cell_type": "markdown",
      "id": "2ee930ad",
      "metadata": {},
      "source": "**Note:** Python uses indentation to define blocks of code\n* this is not merely a matter of style in Python\n* a code block starts with indentation and ends with the first unindented line\n* it is up to you how many spaces you want to use for indentation, as long as you are consistent\n* you can not mix tabs and spaces -- here in Jupyter, the indentation is set automatically to 4 spaces\n    * generally, four whitespaces are used for indentation and is preferred over tabs."
    },
    {
      "cell_type": "code",
      "execution_count": null,
      "id": "17a173cc",
      "metadata": {
        "trusted": true
      },
      "outputs": [],
      "source": "for i in range(5):\n    print(i)\nprint('Are we there yet?')"
    },
    {
      "cell_type": "code",
      "execution_count": null,
      "id": "fc02d664",
      "metadata": {
        "trusted": true
      },
      "outputs": [],
      "source": "for i in range(5):\n    print(i)\n    print('Are we there yet?')"
    },
    {
      "cell_type": "markdown",
      "id": "d42e9055",
      "metadata": {},
      "source": "**Aside on printing multiple things in a `print` function**"
    },
    {
      "cell_type": "code",
      "execution_count": null,
      "id": "91c56b8c",
      "metadata": {
        "trusted": true
      },
      "outputs": [],
      "source": "# This will work ok:\nfor i in range(5):\n    print(i, ': Are we there yet?')\n\n# This will also work ok:\nfor i in range(5):\n    print(str(i) + ': Are we there yet?')\n    \n# This will NOT work ok:\nfor i in range(5):\n    print(i + 'Are we there yet?')"
    },
    {
      "cell_type": "code",
      "execution_count": null,
      "id": "4a49e87a",
      "metadata": {
        "trusted": true
      },
      "outputs": [],
      "source": "# This gives an error\n1 + 'Are we there yet?'"
    },
    {
      "cell_type": "code",
      "execution_count": null,
      "id": "80db8983",
      "metadata": {
        "trusted": true
      },
      "outputs": [],
      "source": "# This does not give an error\n'1' + 'Are we there yet?'"
    },
    {
      "cell_type": "markdown",
      "id": "11b77f7a",
      "metadata": {},
      "source": "Back to for loops.\n\nHere's an example to find the sum of all numbers stored in a list."
    },
    {
      "cell_type": "code",
      "execution_count": null,
      "id": "447617db",
      "metadata": {
        "trusted": true
      },
      "outputs": [],
      "source": "numbers = [1, 1, 2, 3, 5, 8]\n\nsum = 0\n\n# iterate over the list\nfor val in numbers:\n  sum = sum+val\n\nprint(\"The sum is\", sum) # Output: The sum is 20"
    },
    {
      "cell_type": "markdown",
      "id": "75bc316c",
      "metadata": {},
      "source": "<div class=\"alert alert-info\">\n\n<b>Your turn:</b> Create a for loop that prints the sequence 1, 2, 5\n    \n</div>"
    },
    {
      "cell_type": "code",
      "execution_count": null,
      "id": "a4e2ba21",
      "metadata": {
        "trusted": true
      },
      "outputs": [],
      "source": ""
    },
    {
      "cell_type": "markdown",
      "id": "3ee66ca4",
      "metadata": {},
      "source": "---\n### Back to Dickens notebook\n---"
    },
    {
      "cell_type": "markdown",
      "id": "930ac570-2e52-4308-b274-3799ba68684d",
      "metadata": {},
      "source": "### If/else statements\n`if`, `elif`, and `else` allow you to execute Python commands only if some condition is satisfied."
    },
    {
      "cell_type": "code",
      "execution_count": null,
      "id": "cc0ec5fe",
      "metadata": {
        "trusted": true
      },
      "outputs": [],
      "source": "if 2 == 1:\n    print('2 is equal to 1')"
    },
    {
      "cell_type": "markdown",
      "id": "1f575d12",
      "metadata": {},
      "source": "The general syntax is:\n\n```\nif *conditional_expression*:\n    *command1*\n    *command2*\n     ...\nelif *another_conditional_expression*:\n    *command3*\n    *command4*\n     ...\nelif *another_conditional_expression*:\n    *command5*\n    *command6*\n     ...\n... *any_number_of_other_elif_lines*\nelse:\n    *final_commands1*\n    *final_commands2*\n    ...\n```"
    },
    {
      "cell_type": "markdown",
      "id": "4c4b65fa",
      "metadata": {},
      "source": "Recall: In `if` statements, or in `for` loops, or in functions, Python requires you to (1) start with a line of text, (2) end that line of text with a `:`, and (3) use indentation to specify blocks of code."
    },
    {
      "cell_type": "code",
      "execution_count": null,
      "id": "8ecc257e",
      "metadata": {
        "trusted": true
      },
      "outputs": [],
      "source": "if 2 == 1:\n    print('2 is equal to 1')\nelse:\n    print('2 is not equal to 1')"
    },
    {
      "cell_type": "code",
      "execution_count": null,
      "id": "cb0f5bf2-3c86-4cb5-90d2-1c67f535a01d",
      "metadata": {
        "trusted": true
      },
      "outputs": [],
      "source": "num = -1\n\nif num > 0:\n    print(\"Positive number\")\nelif num == 0:\n    print(\"Zero\")\nelse:\n    print(\"Negative number\")\n    \n# Output: Negative number"
    },
    {
      "cell_type": "code",
      "execution_count": null,
      "id": "ace99696-766b-46f2-a192-b2a164468732",
      "metadata": {
        "trusted": true
      },
      "outputs": [],
      "source": "if False:\n  print(\"I am inside the body of if.\")\n  print(\"I am also inside the body of if.\")\nprint(\"I am outside the body of if\")\n\n# Output: I am outside the body of if."
    },
    {
      "cell_type": "markdown",
      "id": "c6e23ff9-92b6-4cc5-b5d8-4652f784a56d",
      "metadata": {},
      "source": "Mathematical conditions:\n* These are rather straight-forward, but try making a few if/elif/else statements to check the True and False values.\n* Equals: `==`\n* Does not equal: `!=`\n* Less than: `<`\n* Less than or equal to: `<=`\n* Greater than: `>`\n* Greater than or equal to: `>=`\n\nMembership in a list:\n* `in` will allow you to check if an element is \"in\" a collection of elements (like a list)\n\nBoolean combinations:  \n* You can evaluate more than one True/False condition in the statements by combining conditions\n  * `and`\n  * `or`\n  * `not`"
    },
    {
      "cell_type": "code",
      "execution_count": null,
      "id": "cb85a8c6-b5da-4370-a6d2-d1b34aabbcdb",
      "metadata": {
        "trusted": true
      },
      "outputs": [],
      "source": "# Switch the value of claim to check the logic\n\nclaimExceptionList = [8888, 99]\n\nclaim = 1\n\nif claim == 1 or claim == 2:\n    print('do not throw the grenade yet')\nelif claim == 3:\n    print('throw the grenade')\nelif claim == 5:\n    print('Silly Arthur.  3 comes after 2.')\nelif claim in claimExceptionList:\n    print('Arther has found an exception.')\nelse:\n    print('You are too late - kaboom!')"
    },
    {
      "cell_type": "markdown",
      "id": "0e73d2b0",
      "metadata": {},
      "source": "---\n### Back to Dickens notebook\n---"
    },
    {
      "cell_type": "markdown",
      "id": "ffbc4642-4c4e-42e5-a122-3de9ed8cfcc9",
      "metadata": {},
      "source": "## Functions, part 2"
    },
    {
      "cell_type": "markdown",
      "id": "90aab33e-56de-4edb-8e6a-c972094d6d6d",
      "metadata": {},
      "source": "A function is a group of related statements that perform a specific task. \n\n* Functions start with the `def` keyword,\n* then the function name, \n* followed immediately by parentheses that enclose a parameter list,\n* and then a `:`\n* The function body falls on subsequent lines\n* The function ends when the indentation stops"
    },
    {
      "cell_type": "code",
      "execution_count": null,
      "id": "07200b40-c01b-42c7-98df-b79d13ff3e71",
      "metadata": {
        "trusted": true
      },
      "outputs": [],
      "source": "def f():\n    print('Hello World!')"
    },
    {
      "cell_type": "code",
      "execution_count": null,
      "id": "996a76a4-10ff-41e7-a27f-4d7f7b76ec26",
      "metadata": {
        "trusted": true
      },
      "outputs": [],
      "source": "# You need to call it to see any output or retrieve returned values\nf()"
    },
    {
      "cell_type": "code",
      "execution_count": null,
      "id": "c9b3ee14-6d0f-4109-93c7-b9f3e01b8f06",
      "metadata": {
        "trusted": true
      },
      "outputs": [],
      "source": "def f2(a):\n    b = a*2\n    return b"
    },
    {
      "cell_type": "code",
      "execution_count": null,
      "id": "b6c4353d-9f0e-438b-802c-d859554848d1",
      "metadata": {
        "trusted": true
      },
      "outputs": [],
      "source": "# This will return an error\nf2()"
    },
    {
      "cell_type": "code",
      "execution_count": null,
      "id": "5473c025-e6d4-458c-9e45-6f699cca3af2",
      "metadata": {
        "trusted": true
      },
      "outputs": [],
      "source": "f2(4)"
    },
    {
      "cell_type": "code",
      "execution_count": null,
      "id": "3aecc4f9",
      "metadata": {
        "trusted": true
      },
      "outputs": [],
      "source": "# The return value can be used or assigned\nnewnumber = f2(4)"
    },
    {
      "cell_type": "code",
      "execution_count": null,
      "id": "049edd36",
      "metadata": {
        "trusted": true
      },
      "outputs": [],
      "source": "print(newnumber)"
    },
    {
      "cell_type": "markdown",
      "id": "4ccc7741-c727-43bb-9f08-a0d1b73f689e",
      "metadata": {},
      "source": "Let's consider a mathematical operation that we wouldn't want to keep typing every time when run it.\n\nThe following is an equation for calculating compound interest with annual contributions\n\n* p = principal\n* r = annual interest rate in percent\n* y = year of the balance\n* c = annual contribution (made at the start of the year)\n\n$$\\text{Balance}(y) = p(1 + r)^y + c\\left[\\frac{(1 + r)^{y+1} - (1 + r)}{r} \\right]$$"
    },
    {
      "cell_type": "code",
      "execution_count": null,
      "id": "18cbfff2-acbd-4e62-8d6b-d47f7ecd277c",
      "metadata": {
        "trusted": true
      },
      "outputs": [],
      "source": "def f(p,r,y,c):\n    return p*(1 + r)**y + c*( ((1 + r)**(y+1) - (1 + r)) / r )"
    },
    {
      "cell_type": "code",
      "execution_count": null,
      "id": "3a5dab76-dbef-4c14-b93a-1554f25eeb4d",
      "metadata": {
        "trusted": true
      },
      "outputs": [],
      "source": "year = 1\nprincipal = 1000\nrate = 5\nannual_contribution = 100\nf(principal, rate, year, annual_contribution)"
    },
    {
      "cell_type": "markdown",
      "id": "02a0ad86-cd86-408d-9e93-d3ad88319010",
      "metadata": {},
      "source": "Functions are useful, of course, for more complicated machinations."
    },
    {
      "cell_type": "code",
      "execution_count": null,
      "id": "277e87c4-f1b9-4a1c-9831-0d39f04ba8d2",
      "metadata": {
        "trusted": true
      },
      "outputs": [],
      "source": "def f2digit(p,r,y,c):\n    r = r/100\n    amountsaved = '{:,.2f}'.format(p*(1 + r)**y + c*( ((1 + r)**(y+1) - (1 + r)) / r ))\n    saying = \"If you save for \" + str(y) + \" years, then you'll have $\" + amountsaved + \" in your retirement.\"\n    return saying"
    },
    {
      "cell_type": "code",
      "execution_count": null,
      "id": "9087c80f-b68b-4ee7-b343-28a0aac4b384",
      "metadata": {
        "trusted": true
      },
      "outputs": [],
      "source": "year = 45\nprincipal = 1000\nrate = 5\nannual_contribution = 6500\nf2digit(principal, rate, year, annual_contribution)"
    },
    {
      "cell_type": "markdown",
      "id": "9d440e75-6045-41b3-8e20-f9f22749160e",
      "metadata": {},
      "source": "<div class=\"alert alert-info\">\n\n<b>Your turn:</b>\n\n1. Write your own function definition\n2. Call your function several times to make sure it works\n    \n</div>"
    },
    {
      "cell_type": "code",
      "execution_count": null,
      "id": "f9f64c05-b8fd-4de0-bb71-8b7241f7e1fc",
      "metadata": {
        "trusted": true
      },
      "outputs": [],
      "source": "# Enter your code for #1 here:\n"
    },
    {
      "cell_type": "code",
      "execution_count": null,
      "id": "5ae45fc4-44d6-44ac-b974-40760798f195",
      "metadata": {
        "trusted": true
      },
      "outputs": [],
      "source": "# Enter your code for #2 here:\n"
    },
    {
      "cell_type": "markdown",
      "id": "b6d02483",
      "metadata": {},
      "source": "---\n### Back to Dickens notebook\n---"
    },
    {
      "cell_type": "markdown",
      "id": "ac8f44e7-55b2-4a99-8964-c6842c39a785",
      "metadata": {},
      "source": "## Methods, refresher"
    },
    {
      "cell_type": "markdown",
      "id": "1861f211-ae59-4e29-948c-88e34049d9c6",
      "metadata": {},
      "source": "Variables in Python are actually objects (yes, in the object-oriented sense of object).\n\nPython variables can therefore have attributes and methods associated with them."
    },
    {
      "cell_type": "code",
      "execution_count": null,
      "id": "98eb0ff1-3fd3-487a-a626-36edc6192c3e",
      "metadata": {
        "trusted": true
      },
      "outputs": [],
      "source": "numbers = [1, 1, 2, 3, 5, 8]"
    },
    {
      "cell_type": "code",
      "execution_count": null,
      "id": "4f0b267d-8532-4988-94bb-39347e81ca3d",
      "metadata": {
        "trusted": true
      },
      "outputs": [],
      "source": "type(numbers)"
    },
    {
      "cell_type": "code",
      "execution_count": null,
      "id": "11aef6c6-1a05-410c-a506-605707853577",
      "metadata": {
        "trusted": true
      },
      "outputs": [],
      "source": "numbers.index(5)"
    },
    {
      "cell_type": "markdown",
      "id": "0f85726f-16e9-487f-88eb-85819f2a9da5",
      "metadata": {},
      "source": "The `.` notation is used to denote that we are using the `index` method associated with the `numbers` list variable, and passing `5` as the input parameter to that method.\n\nIt tells us that the value `5` is in the `numbers` list at index 4."
    },
    {
      "cell_type": "code",
      "execution_count": null,
      "id": "3b2786ef-ce82-4c09-b14a-f76dedd35bb7",
      "metadata": {
        "trusted": true
      },
      "outputs": [],
      "source": "numbers[4]"
    },
    {
      "cell_type": "markdown",
      "id": "4f85dcdd-9106-42f7-ad44-7aa579c38b3d",
      "metadata": {},
      "source": "The `reverse` method will reverse the elements in-place."
    },
    {
      "cell_type": "code",
      "execution_count": null,
      "id": "17713577-8fb1-4e2c-ab03-2d5ff9fdd48c",
      "metadata": {
        "trusted": true
      },
      "outputs": [],
      "source": "numbers.reverse()"
    },
    {
      "cell_type": "code",
      "execution_count": null,
      "id": "88ff4551-a7fd-47f4-9d10-68a2e6668b3c",
      "metadata": {
        "trusted": true
      },
      "outputs": [],
      "source": "numbers"
    },
    {
      "cell_type": "markdown",
      "id": "cd5cbeba-31df-4917-abe9-d95ef6881496",
      "metadata": {},
      "source": "Strings and dictionaries also have methods."
    },
    {
      "cell_type": "code",
      "execution_count": null,
      "id": "7c07dfbf-b1d5-4275-8571-7eeb61cc73cd",
      "metadata": {
        "trusted": true
      },
      "outputs": [],
      "source": "# 'split' splits a string into a list of elements\n# the splitting happens by default on whitespace\n\n'My name is Ben'.split()"
    },
    {
      "cell_type": "code",
      "execution_count": null,
      "id": "523cacce-d10d-43d8-8f88-b22599485223",
      "metadata": {
        "trusted": true
      },
      "outputs": [],
      "source": "# 'join' is a string method that creates a single string from a list\n\n'-'.join(['Combo','words','are','in','this','list'])"
    },
    {
      "cell_type": "markdown",
      "id": "49559b94-a4aa-4231-a923-77505f605440",
      "metadata": {},
      "source": "## Modules"
    },
    {
      "cell_type": "markdown",
      "id": "8a0267dd-d355-4891-9766-c3ba923581ae",
      "metadata": {},
      "source": "A lot of coders have written Python code that you can easily reuse.  "
    },
    {
      "cell_type": "code",
      "execution_count": null,
      "id": "26ab68c8-222f-4e17-8e3d-796adc11c03c",
      "metadata": {
        "trusted": true
      },
      "outputs": [],
      "source": "# Example:\n\n# retrieve the `math` module\nimport math\n\n# use constants stored in the module\nprint('pi = ', math.pi)\n\n# use functions written in the module\nprint('The value of sin(pi/2) is', math.sin(math.pi/2))"
    },
    {
      "cell_type": "markdown",
      "id": "9f56c3eb-87d3-434c-a813-5d71eadecdb8",
      "metadata": {},
      "source": "Some code comes standard with every Python installation.  Other code needs to be retrieved and installed.  However, once you have the code, it can dramatically expand your coding capabilities.\n\nModules allow us to use externally developed code.\n* A module is a group of code items such as functions that are related to one another. Individual modules are often grouped together as a library.\n* Modules can be loaded using `import <modulename>`. \n* Functions that are part of the module `modulename` can then be used by typing `modulename.functionname()`. \n  * For example, `sin()` is a function that is part of the `math` module\n  * We can use to by typing `math.sin()` with some number between the parentheses.\n* Modules may also contain constants in addition to functions.\n  * The `math` module includes a constant for $\\pi$ -- `math.pi`"
    },
    {
      "cell_type": "markdown",
      "id": "8b35322c-f2f5-4acf-b505-e34ac323b602",
      "metadata": {},
      "source": "## Using other libraries"
    },
    {
      "cell_type": "markdown",
      "id": "b5a9f6ff-2e07-467f-9ef7-bd4156525793",
      "metadata": {},
      "source": "We actually know enough Python now that we could follow along with some commands to use other libraries:"
    },
    {
      "cell_type": "markdown",
      "id": "0453f1b5",
      "metadata": {},
      "source": "## Pandas"
    },
    {
      "cell_type": "markdown",
      "id": "2f0e02eb",
      "metadata": {},
      "source": "We can use a module called Pandas to retrieve data from the CORGIS website (The Collection of Really Great, Interesting, Situated Datasets)!\n\nSpecifically, we are going to retrieve a dataset from their collection of CSV files (Comma-Separated Value files)\n* https://corgis-edu.github.io/corgis/csv/\n\n`classics.csv` is accessible at https://corgis-edu.github.io/corgis/datasets/csv/classics/classics.csv\n\nIf you look at the page for the [classics dataset](https://corgis-edu.github.io/corgis/csv/classics/), you'll see a download link, and by right-clicking on that link and copying the link address, you can find it to be the same as shown above."
    },
    {
      "cell_type": "code",
      "execution_count": null,
      "id": "877d433b",
      "metadata": {
        "trusted": true
      },
      "outputs": [],
      "source": "# Import the module here so we have access to all its functionality\n# We give it the alias \"pd\" because that is how the module is commonly used\nimport pandas as pd"
    },
    {
      "cell_type": "code",
      "execution_count": null,
      "id": "82cecc7d",
      "metadata": {
        "trusted": true
      },
      "outputs": [],
      "source": "# Read the data contained in 'classics.csv' into a variable named classics_data\nclassics_data = pd.read_csv('https://corgis-edu.github.io/corgis/datasets/csv/classics/classics.csv')"
    },
    {
      "cell_type": "code",
      "execution_count": null,
      "id": "26ce2b2a",
      "metadata": {
        "trusted": true
      },
      "outputs": [],
      "source": "# How can we find out what type of data \"classics_data\" is?\n\n"
    },
    {
      "cell_type": "code",
      "execution_count": null,
      "id": "d3600232",
      "metadata": {
        "trusted": true
      },
      "outputs": [],
      "source": "# The following method will show us the first 5 records in classics_data\nclassics_data.head()"
    },
    {
      "cell_type": "code",
      "execution_count": null,
      "id": "3d7d5fd1",
      "metadata": {
        "trusted": true
      },
      "outputs": [],
      "source": "# We can use pandas to make visualizations too\nclassics_data.hist('metrics.statistics.average letter per word',bins=100)"
    },
    {
      "cell_type": "markdown",
      "id": "737eca64",
      "metadata": {},
      "source": "## To be continued...."
    }
  ],
  "metadata": {
    "kernelspec": {
      "display_name": "Python 3 (ipykernel)",
      "language": "python",
      "name": "python3"
    },
    "language_info": {
      "codemirror_mode": {
        "name": "ipython",
        "version": 3
      },
      "file_extension": ".py",
      "mimetype": "text/x-python",
      "name": "python",
      "nbconvert_exporter": "python",
      "pygments_lexer": "ipython3",
      "version": "3.11.6"
    }
  },
  "nbformat": 4,
  "nbformat_minor": 5
}