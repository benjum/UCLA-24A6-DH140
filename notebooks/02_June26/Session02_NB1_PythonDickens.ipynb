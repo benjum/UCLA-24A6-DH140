{
  "cells": [
    {
      "cell_type": "markdown",
      "id": "d1ae86d5-0721-44cf-a468-2bd2648d27ef",
      "metadata": {},
      "source": "## Learning Python with Dickens"
    },
    {
      "cell_type": "markdown",
      "id": "114b9538",
      "metadata": {},
      "source": "We are going to explore an applied problem as a way to explore what we need to do with Python.\n\nAs our initial data, we are going to use a phrase from Charles Dickens' \"A Tale of Two Cities\":"
    },
    {
      "cell_type": "code",
      "execution_count": null,
      "id": "040d51d0-32a7-4481-85f1-89c858d5aab0",
      "metadata": {
        "trusted": true
      },
      "outputs": [],
      "source": "sentence = 'It was the best of times, it was the worst of times'"
    },
    {
      "cell_type": "markdown",
      "id": "034975eb",
      "metadata": {},
      "source": "* This object is a string.\n* `sentence` is our name for a variable that stores the string.\n* `=` is a Python way to say \"Take the quantity on the right and store it in the variable on the right\""
    },
    {
      "cell_type": "code",
      "execution_count": null,
      "id": "62c0f2de",
      "metadata": {
        "trusted": true
      },
      "outputs": [],
      "source": "print(sentence)\n\n# Or, within Jupyter notebooks, \n# we can put the variable by itself in a cell, \n# and then run the cell to output the variable's value.\n## \n## uncomment the line below\n## \n# sentence"
    },
    {
      "cell_type": "markdown",
      "id": "5c1b309c",
      "metadata": {},
      "source": "In the cell below, how can we find the number of characters in the sentence?"
    },
    {
      "cell_type": "code",
      "execution_count": null,
      "id": "5384a458",
      "metadata": {
        "trusted": true
      },
      "outputs": [],
      "source": ""
    },
    {
      "cell_type": "markdown",
      "id": "fe2dc464",
      "metadata": {},
      "source": "How about the number of phrases?  or the number of words?"
    },
    {
      "cell_type": "code",
      "execution_count": null,
      "id": "24a3ed67",
      "metadata": {
        "trusted": true
      },
      "outputs": [],
      "source": "sentence.split()"
    },
    {
      "cell_type": "code",
      "execution_count": null,
      "id": "162d0424",
      "metadata": {
        "trusted": true
      },
      "outputs": [],
      "source": "len(sentence.split())"
    },
    {
      "cell_type": "markdown",
      "id": "48c754ce",
      "metadata": {},
      "source": "We're actually using `len` on a non-string object here.\n* `sentence.split()` gives us a collection of strings.\n* Each individual element is contained in `''`\n* All of the elements are contained within `[]`\n\nThis is a Python **list**."
    },
    {
      "cell_type": "markdown",
      "id": "df8a8f00",
      "metadata": {},
      "source": "---\n### Back to Fundamentals notebook\n---"
    },
    {
      "cell_type": "markdown",
      "id": "4f8b6fa6",
      "metadata": {},
      "source": "Since `sentence` is a string, we can also look at particular characters in the string using indexing and slicing."
    },
    {
      "cell_type": "code",
      "execution_count": null,
      "id": "a491ca97-6980-4ece-9e93-bbe17d003d09",
      "metadata": {
        "trusted": true
      },
      "outputs": [],
      "source": "# retrieve the character at index 0\n\n"
    },
    {
      "cell_type": "code",
      "execution_count": null,
      "id": "9d7ba53c-02ba-4dfa-92c1-131c839b74dd",
      "metadata": {
        "trusted": true
      },
      "outputs": [],
      "source": "# retrieve the characters starting at index 0 and \n# going up to (but not including) index 5\n\n"
    },
    {
      "cell_type": "code",
      "execution_count": null,
      "id": "c440af75",
      "metadata": {
        "trusted": true
      },
      "outputs": [],
      "source": "# retrieve the 4th word of the sentence\n\n????\n\nprint('Our sentence is:')\nprint(???)\n\nprint('The 4th word is:')\nprint(???)"
    },
    {
      "cell_type": "markdown",
      "id": "8c5ac077",
      "metadata": {},
      "source": "## # of times of \"times\"\n\nLet's try to find the number of times \"times\" occurs in our sentence."
    },
    {
      "cell_type": "code",
      "execution_count": null,
      "id": "4aa99f20-7429-46c3-ac96-c9df431e4a54",
      "metadata": {
        "trusted": true
      },
      "outputs": [],
      "source": "sentence"
    },
    {
      "cell_type": "markdown",
      "id": "b3115325",
      "metadata": {},
      "source": "We need to be able to (1) get the words, (2) check if any word is \"times\", and (3) keep track of the count.\n\nWe'll build this up gradually.  First, it will be useful to know how to do some action repetitively.  For example, when we check if the words are \"times\", we'll check the 1st word to see if it is \"times\", check the 2nd word to see if it is \"times\", check the 3rd word....\n\nTo do this, we are going to make use of **for** loops, **if** conditional expressions, and **functions**."
    },
    {
      "cell_type": "markdown",
      "id": "76d4b2b0",
      "metadata": {},
      "source": "---\n### Back to Fundamentals notebook\n---"
    },
    {
      "cell_type": "code",
      "execution_count": null,
      "id": "b5f3108f",
      "metadata": {
        "scrolled": false,
        "trusted": true
      },
      "outputs": [],
      "source": "for word in sentence:\n    print(word)"
    },
    {
      "cell_type": "markdown",
      "id": "e20cc0c7",
      "metadata": {},
      "source": "What is the above doing? (and note that `word` is just a variable name, not an actual indication that we're specifically telling Python to look at words)"
    },
    {
      "cell_type": "code",
      "execution_count": null,
      "id": "451d4f4f",
      "metadata": {
        "trusted": true
      },
      "outputs": [],
      "source": "sentence.split()"
    },
    {
      "cell_type": "code",
      "execution_count": null,
      "id": "972f9fa1",
      "metadata": {
        "trusted": true
      },
      "outputs": [],
      "source": "words = sentence.split()"
    },
    {
      "cell_type": "code",
      "execution_count": null,
      "id": "385143f0",
      "metadata": {
        "trusted": true
      },
      "outputs": [],
      "source": "words"
    },
    {
      "cell_type": "code",
      "execution_count": null,
      "id": "16d19954",
      "metadata": {
        "trusted": true
      },
      "outputs": [],
      "source": "# how to count the number of times a word occurs?\n\n# for word in sentence:\nfor word in words:\n    print(word)"
    },
    {
      "cell_type": "markdown",
      "id": "f42574ac",
      "metadata": {},
      "source": "In order to count the number of times \"times\" occurs, we need to be able to check whether any given word is \"times\".\n* conditional expressions can be used to check True/False statements \n* \"if\" statements can be used to carry out actions on the basis of whether something is True or False"
    },
    {
      "cell_type": "markdown",
      "id": "c0c6f07a",
      "metadata": {},
      "source": "---\n### Back to Fundamentals notebook\n---"
    },
    {
      "cell_type": "code",
      "execution_count": null,
      "id": "6c408e45",
      "metadata": {
        "trusted": true
      },
      "outputs": [],
      "source": "# how to count the number of times a word occurs?\n\n# for word in sentence:\nfor word in words:\n    if word == 'times':\n        print('yay! I found \"times\"')"
    },
    {
      "cell_type": "code",
      "execution_count": null,
      "id": "6056df2c",
      "metadata": {
        "trusted": true
      },
      "outputs": [],
      "source": "# how to count the number of times a word occurs?\n\ntimescount = 0\nfor word in words:\n    if word == 'times':\n        print('yay! I found \"times\"')\n        timescount = timescount + 1\n        print('I have now found it ' + timescount + ' times.')"
    },
    {
      "cell_type": "markdown",
      "id": "89bf50e6",
      "metadata": {},
      "source": "How do we make sense of error messages?"
    },
    {
      "cell_type": "code",
      "execution_count": null,
      "id": "1dd9a632",
      "metadata": {
        "trusted": true
      },
      "outputs": [],
      "source": "# how to count the number of times a word occurs?\n\ntimescount = 0\nfor word in words:\n    if word == 'times':\n        print('yay! I found \"times\"')\n        timescount = timescount + 1\n        print('I have now found it ' + str(timescount) + ' times.')"
    },
    {
      "cell_type": "markdown",
      "id": "a7f99961",
      "metadata": {},
      "source": "Why not 2?"
    },
    {
      "cell_type": "code",
      "execution_count": null,
      "id": "84e9a458",
      "metadata": {
        "trusted": true
      },
      "outputs": [],
      "source": "# how to count the number of times a word occurs?\n\ntimescount = 0\nfor word in words:\n    \n    # new line\n    print('yay! I found ' + word)\n    # also note the use of space and comments\n    # and the extension of the block of code across many lines\n    \n    if word == 'times':\n        print('yay! I found \"times\"')\n        timescount = timescount + 1\n        print('I have now found it ' + str(timescount) + ' times.')"
    },
    {
      "cell_type": "markdown",
      "id": "39e72a1a",
      "metadata": {},
      "source": "How can we get rid of the commas?\n\nWe'll try a couple ways (that will mostly fail -- failure is only a way to navigate towards good code!)"
    },
    {
      "cell_type": "code",
      "execution_count": null,
      "id": "e2aa2ee4",
      "metadata": {
        "trusted": true
      },
      "outputs": [],
      "source": "specialchar = ','"
    },
    {
      "cell_type": "markdown",
      "id": "002b64a2",
      "metadata": {},
      "source": "`replace` is a string method that replaces the first argument with the second argument:"
    },
    {
      "cell_type": "code",
      "execution_count": null,
      "id": "508ddb3c",
      "metadata": {
        "trusted": true
      },
      "outputs": [],
      "source": "'Hi my name is Ben.'.replace('Ben','John')"
    },
    {
      "cell_type": "markdown",
      "id": "68a5240a",
      "metadata": {},
      "source": "Let's try that."
    },
    {
      "cell_type": "code",
      "execution_count": null,
      "id": "2cd34d22",
      "metadata": {
        "trusted": true
      },
      "outputs": [],
      "source": "words.replace(',', '')"
    },
    {
      "cell_type": "markdown",
      "id": "a8020e26",
      "metadata": {},
      "source": "This fails because replace is for strings not lists!\n\nRemember that functions and methods are very particular about the type of data they operate on."
    },
    {
      "cell_type": "markdown",
      "id": "36f40a85",
      "metadata": {},
      "source": "How about using a for loop to iterate over all the words, and then use `replace`?"
    },
    {
      "cell_type": "code",
      "execution_count": null,
      "id": "e2b791f2",
      "metadata": {
        "trusted": true
      },
      "outputs": [],
      "source": "for word in words:\n    \n    print(word,words)\n    \n    if ',' in word:\n        word = word.replace(',', '')\n    \n    print(word,words)"
    },
    {
      "cell_type": "markdown",
      "id": "09d43c35",
      "metadata": {},
      "source": "This fails because you are changing the value of the iteration variable!  The iteration variable only exists to use a value inside the loop (the iterative process), it isn't *exactly* the same thing as what's stored in the list."
    },
    {
      "cell_type": "markdown",
      "id": "811a45fd",
      "metadata": {},
      "source": "Let's take a step back:\n* first, use `replace` on the entire sentence\n* only after doing that, create a list of words using `split`"
    },
    {
      "cell_type": "code",
      "execution_count": null,
      "id": "0a3aa2df",
      "metadata": {
        "trusted": true
      },
      "outputs": [],
      "source": "n = sentence.replace(',', '')\nn.split()"
    },
    {
      "cell_type": "markdown",
      "id": "a4074602",
      "metadata": {},
      "source": "That's better because now there are two elements that are exactly 'times' rather than being 'times,' and 'times'."
    },
    {
      "cell_type": "code",
      "execution_count": null,
      "id": "211b30f6",
      "metadata": {
        "trusted": true
      },
      "outputs": [],
      "source": "# we can chain these together because the output \n# of \"sentence.replace(',', '')\" is itself a string\n\nwords = sentence.replace(',', '').split()"
    },
    {
      "cell_type": "code",
      "execution_count": null,
      "id": "fa1657a3",
      "metadata": {
        "trusted": true
      },
      "outputs": [],
      "source": "words"
    },
    {
      "cell_type": "code",
      "execution_count": null,
      "id": "a288e407",
      "metadata": {
        "trusted": true
      },
      "outputs": [],
      "source": "# how to count the number of times a word occurs?\n\ntimescount = 0\nfor word in words:\n    \n    # new line\n    print('I found ' + word)\n    # also note the use of space and comments\n    # and the extension of the block of code across many lines\n    \n    if word == 'times':\n        timescount = timescount + 1\n        print('Yay! I have now found it ' + str(timescount) + ' times.')\n        \nprint('\"times\" occurs ' + str(timescount) + ' times.')"
    },
    {
      "cell_type": "markdown",
      "id": "ab4c08a5",
      "metadata": {},
      "source": "One more step:  it can be useful to have this **function**ality for every word.\n* Not only can we use Python functions, we can write *our own* functions to carry out actions."
    },
    {
      "cell_type": "markdown",
      "id": "aee702df",
      "metadata": {},
      "source": "---\n### Back to Fundamentals notebook\n---"
    },
    {
      "cell_type": "code",
      "execution_count": null,
      "id": "c8bcd72d",
      "metadata": {
        "trusted": true
      },
      "outputs": [],
      "source": "# write the function and generalize it so that \"times\" is now a variable `wordtofindvar`\n\ndef wordcount(listofwordsvar, wordtofindvar):\n\n    timescount = 0\n    for word in listofwordsvar:\n    \n        # new line\n        print('I found ' + word)\n        # also note the use of space and comments\n        # and the extension of the block of code across many lines\n\n        if word == wordtofindvar:\n            timescount = timescount + 1\n            print('Yay! I have now found it ' + str(timescount) + ' times.')\n\n    print(wordtofindvar + ' occurs ' + str(timescount) + ' times.')"
    },
    {
      "cell_type": "code",
      "execution_count": null,
      "id": "b7f30afd",
      "metadata": {
        "trusted": true
      },
      "outputs": [],
      "source": "wordcount(words, 'it')"
    },
    {
      "cell_type": "markdown",
      "id": "e84a5a5c",
      "metadata": {},
      "source": "Something else to snag us:  Capitalization!\n* to be addressed later"
    },
    {
      "cell_type": "code",
      "execution_count": null,
      "id": "4735ff9b",
      "metadata": {
        "trusted": true
      },
      "outputs": [],
      "source": "wordcount(words, 'times')"
    },
    {
      "cell_type": "code",
      "execution_count": null,
      "id": "2652e469",
      "metadata": {
        "trusted": true
      },
      "outputs": [],
      "source": "# one more thing:  return value\n\ndef wordcount(listofwordsvar, wordtofindvar):\n\n    timescount = 0\n    for word in listofwordsvar:\n    \n        # new line\n        # print('I found ' + word)\n        # also note the use of space and comments\n        # and the extension of the block of code across many lines\n\n        if word == wordtofindvar:\n            timescount = timescount + 1\n            # print('Yay! I have now found it ' + str(timescount) + ' times.')\n\n    # print(word + ' occurs ' + str(timescount) + ' times.')\n    return timescount"
    },
    {
      "cell_type": "code",
      "execution_count": null,
      "id": "14364fb4",
      "metadata": {
        "trusted": true
      },
      "outputs": [],
      "source": "wordcount(words, 'times')"
    },
    {
      "cell_type": "code",
      "execution_count": null,
      "id": "8a72da0f",
      "metadata": {
        "trusted": true
      },
      "outputs": [],
      "source": "n = wordcount(words, 'times')"
    },
    {
      "cell_type": "code",
      "execution_count": null,
      "id": "3b06fea8",
      "metadata": {
        "trusted": true
      },
      "outputs": [],
      "source": "print('times occurs ' + str(n) + ' times.')"
    },
    {
      "cell_type": "markdown",
      "id": "10e03b0d",
      "metadata": {},
      "source": "---\n### Back to Fundamentals notebook\n---"
    }
  ],
  "metadata": {
    "kernelspec": {
      "display_name": "Python 3 (ipykernel)",
      "language": "python",
      "name": "python3"
    },
    "language_info": {
      "codemirror_mode": {
        "name": "ipython",
        "version": 3
      },
      "file_extension": ".py",
      "mimetype": "text/x-python",
      "name": "python",
      "nbconvert_exporter": "python",
      "pygments_lexer": "ipython3",
      "version": "3.11.6"
    }
  },
  "nbformat": 4,
  "nbformat_minor": 5
}