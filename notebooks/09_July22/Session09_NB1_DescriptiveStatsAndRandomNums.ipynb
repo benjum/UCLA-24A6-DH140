{
 "cells": [
  {
   "cell_type": "markdown",
   "id": "9fb48609-3720-4c4c-9369-9fe051d62317",
   "metadata": {},
   "source": [
    "# Looking at Descriptive Statistics and Probabilities"
   ]
  },
  {
   "cell_type": "code",
   "execution_count": null,
   "id": "43298459-baac-4653-95c9-4985bb456202",
   "metadata": {},
   "outputs": [],
   "source": [
    "import pandas as pd"
   ]
  },
  {
   "cell_type": "code",
   "execution_count": null,
   "id": "f36d96da-ad39-4243-b96b-221897c935a5",
   "metadata": {},
   "outputs": [],
   "source": [
    "df = pd.read_csv('https://corgis-edu.github.io/corgis/datasets/csv/classics/classics.csv')"
   ]
  },
  {
   "cell_type": "code",
   "execution_count": null,
   "id": "51fc9f9b-16aa-4783-903e-03abac998247",
   "metadata": {},
   "outputs": [],
   "source": [
    "df.describe()"
   ]
  },
  {
   "cell_type": "code",
   "execution_count": null,
   "id": "4298afd1-57be-49e0-bc1b-538cc3dbf64e",
   "metadata": {},
   "outputs": [],
   "source": [
    "df['metrics.statistics.words'].describe()"
   ]
  },
  {
   "cell_type": "code",
   "execution_count": null,
   "id": "0f273e2b",
   "metadata": {},
   "outputs": [],
   "source": [
    "df['metrics.statistics.words'].plot(kind='hist',bins=100)"
   ]
  },
  {
   "cell_type": "code",
   "execution_count": null,
   "id": "8f482ea8",
   "metadata": {},
   "outputs": [],
   "source": [
    "df.sort_values(by='metrics.statistics.words',\n",
    "               ignore_index=True).loc[0:950,'metrics.statistics.words'].plot(kind='hist',bins=100)"
   ]
  },
  {
   "cell_type": "code",
   "execution_count": null,
   "id": "57664265",
   "metadata": {},
   "outputs": [],
   "source": [
    "df.sort_values(by='metrics.statistics.words',\n",
    "               ignore_index=True).loc[0:950,'metrics.statistics.words'].plot(kind='box')"
   ]
  },
  {
   "cell_type": "code",
   "execution_count": null,
   "id": "117541a8-da73-4b14-a18d-dff2f1c5071d",
   "metadata": {},
   "outputs": [],
   "source": [
    "df['metrics.statistics.words'].count()"
   ]
  },
  {
   "cell_type": "code",
   "execution_count": null,
   "id": "cd1bcfb8-9397-40b9-8d1c-f94725d201a4",
   "metadata": {},
   "outputs": [],
   "source": [
    "df['metrics.statistics.words'].mean()"
   ]
  },
  {
   "cell_type": "code",
   "execution_count": null,
   "id": "aa07d4b7-c05e-4ec0-8832-3c4d3bebcc15",
   "metadata": {},
   "outputs": [],
   "source": [
    "df2 = df.sort_values(by='metrics.statistics.words').copy()"
   ]
  },
  {
   "cell_type": "code",
   "execution_count": null,
   "id": "ae81cecb-ea75-4ef6-bc3e-cbbb1bd4d357",
   "metadata": {},
   "outputs": [],
   "source": [
    "df2['metrics.statistics.words']"
   ]
  },
  {
   "cell_type": "code",
   "execution_count": null,
   "id": "4be78a76-4821-4d80-a3bd-2822368fb8fb",
   "metadata": {},
   "outputs": [],
   "source": [
    "df2 = df.sort_values(by='metrics.statistics.words',ignore_index=True).copy()"
   ]
  },
  {
   "cell_type": "code",
   "execution_count": null,
   "id": "fd811d48-b009-4d93-a6ad-9072c75b99e8",
   "metadata": {},
   "outputs": [],
   "source": [
    "df2['metrics.statistics.words']"
   ]
  },
  {
   "cell_type": "code",
   "execution_count": null,
   "id": "200235e3-2ba1-4b93-b9e2-1d1b7d97c6df",
   "metadata": {},
   "outputs": [],
   "source": [
    "df2.loc[int(0.1*1005):int(0.9*1005),'metrics.statistics.words'].mean()"
   ]
  },
  {
   "cell_type": "code",
   "execution_count": null,
   "id": "a5488b8e-633d-4745-99e4-638c6f7e2991",
   "metadata": {},
   "outputs": [],
   "source": [
    "df['metrics.statistics.words'].median()"
   ]
  },
  {
   "cell_type": "code",
   "execution_count": null,
   "id": "298239f0-a0bf-45cd-a44c-7a0ad3218ae7",
   "metadata": {},
   "outputs": [],
   "source": [
    "df['metrics.statistics.words'].std()"
   ]
  },
  {
   "cell_type": "code",
   "execution_count": null,
   "id": "051925d5-ca58-438b-a847-e2c12a325d50",
   "metadata": {},
   "outputs": [],
   "source": [
    "df['metrics.statistics.words'].quantile()"
   ]
  },
  {
   "cell_type": "markdown",
   "id": "bfffb4a3-a8d1-4a60-97b2-96d30fbd0976",
   "metadata": {},
   "source": [
    "default above is the 50% quantile --> the median"
   ]
  },
  {
   "cell_type": "code",
   "execution_count": null,
   "id": "7a38c225-2b9e-48e6-9d1a-66e41c9c70da",
   "metadata": {},
   "outputs": [],
   "source": [
    "df['metrics.statistics.words'].quantile(0.25)"
   ]
  },
  {
   "cell_type": "code",
   "execution_count": null,
   "id": "1fa2fc35-5bf6-4f5c-994f-bbefd5a19d95",
   "metadata": {},
   "outputs": [],
   "source": [
    "df['metrics.statistics.words'].quantile(0.75)"
   ]
  },
  {
   "cell_type": "code",
   "execution_count": null,
   "id": "3a54ce09-72a5-411e-836c-7739ccef5d8d",
   "metadata": {},
   "outputs": [],
   "source": [
    "df['metrics.statistics.words'].plot(kind='box')"
   ]
  },
  {
   "cell_type": "markdown",
   "id": "a44a2cd3-a8e4-4e94-934b-a9276712619f",
   "metadata": {},
   "source": [
    "Here the box goes from Q1 to Q3, the whiskers extend to show the range but no more than 1.5 * IQR (Q3-Q1).  Data outside that range is shown as separate dots."
   ]
  },
  {
   "cell_type": "markdown",
   "id": "b48e8545",
   "metadata": {},
   "source": [
    "Let's look at sentiment too!"
   ]
  },
  {
   "cell_type": "code",
   "execution_count": null,
   "id": "5c620d5c",
   "metadata": {},
   "outputs": [],
   "source": [
    "df['metrics.sentiments.polarity'].plot(kind='box')"
   ]
  },
  {
   "cell_type": "code",
   "execution_count": null,
   "id": "d5d1c07f-134b-4f39-945a-d2e3e37d8a45",
   "metadata": {},
   "outputs": [],
   "source": [
    "df[df['metrics.sentiments.polarity']<0]"
   ]
  },
  {
   "cell_type": "code",
   "execution_count": null,
   "id": "7d726ee2-44c5-4726-af4c-720d8ea84323",
   "metadata": {},
   "outputs": [],
   "source": [
    "df['metrics.sentiments.polarity'].plot(kind='hist')"
   ]
  },
  {
   "cell_type": "code",
   "execution_count": null,
   "id": "0673652d",
   "metadata": {},
   "outputs": [],
   "source": [
    "df['metrics.sentiments.polarity'].plot(kind='hist', bins=500)"
   ]
  },
  {
   "cell_type": "code",
   "execution_count": null,
   "id": "a0fae3eb",
   "metadata": {},
   "outputs": [],
   "source": [
    "df['metrics.sentiments.polarity'].plot(kind='hist', bins=5000)"
   ]
  },
  {
   "cell_type": "code",
   "execution_count": null,
   "id": "2d9fdf6a-27f2-4dbf-8644-bc3062e44bc4",
   "metadata": {},
   "outputs": [],
   "source": [
    "print('Mean: ',df['metrics.sentiments.polarity'].mean())\n",
    "print('Median: ',df['metrics.sentiments.polarity'].median())\n",
    "print('Mode: ',df['metrics.sentiments.polarity'].mode())\n",
    "df['metrics.sentiments.polarity'].plot(kind='hist',bins=25);"
   ]
  },
  {
   "cell_type": "code",
   "execution_count": null,
   "id": "51c8f69b-5564-45b0-80c1-6b2d68cfb825",
   "metadata": {},
   "outputs": [],
   "source": [
    "print('Mean: ',df['bibliography.author.birth'].mean())\n",
    "print('Median: ',df['bibliography.author.birth'].median())\n",
    "print('Mode: ',df['bibliography.author.birth'].mode())\n",
    "df['bibliography.author.birth'].plot(kind='hist',bins=25);"
   ]
  },
  {
   "cell_type": "code",
   "execution_count": null,
   "id": "7d8a8da9",
   "metadata": {},
   "outputs": [],
   "source": [
    "df2 = df.loc[df['bibliography.author.birth']>1800]\n",
    "print('Mean: ',df2['bibliography.author.birth'].mean())\n",
    "print('Median: ',df2['bibliography.author.birth'].median())\n",
    "print('Mode: ',df2['bibliography.author.birth'].mode())\n",
    "df2['bibliography.author.birth'].plot(kind='hist',bins=25);"
   ]
  },
  {
   "cell_type": "markdown",
   "id": "5c360f9d",
   "metadata": {},
   "source": [
    "## Looking at Distributions with Random Numbers"
   ]
  },
  {
   "cell_type": "code",
   "execution_count": null,
   "id": "b25a06ab",
   "metadata": {},
   "outputs": [],
   "source": [
    "import numpy as np\n",
    "import matplotlib.pyplot as plt"
   ]
  },
  {
   "cell_type": "markdown",
   "id": "b6d60992",
   "metadata": {},
   "source": [
    "Let's simulate flipping a coin:"
   ]
  },
  {
   "cell_type": "code",
   "execution_count": null,
   "id": "794e2049",
   "metadata": {},
   "outputs": [],
   "source": [
    "coin = ['heads','tails']"
   ]
  },
  {
   "cell_type": "code",
   "execution_count": null,
   "id": "e8410563",
   "metadata": {},
   "outputs": [],
   "source": [
    "np.random.choice(coin,\n",
    "                 p=[0.5, 0.5])"
   ]
  },
  {
   "cell_type": "code",
   "execution_count": null,
   "id": "b3c3e243",
   "metadata": {},
   "outputs": [],
   "source": [
    "def flipcoin():\n",
    "    return np.random.choice(coin)"
   ]
  },
  {
   "cell_type": "code",
   "execution_count": null,
   "id": "dffea52a",
   "metadata": {},
   "outputs": [],
   "source": [
    "flipcoin()"
   ]
  },
  {
   "cell_type": "markdown",
   "id": "d198f8c5",
   "metadata": {},
   "source": [
    "Can we tell if an actual coin we're flipping is biased?\n",
    "\n",
    "We could do a lot of hypothetical coin flips with our code to see what the distribution of outcomes is like.\n",
    "\n",
    "If we want to flip a coin n times:"
   ]
  },
  {
   "cell_type": "code",
   "execution_count": null,
   "id": "29145fa5",
   "metadata": {},
   "outputs": [],
   "source": [
    "def flips(n):\n",
    "    flips = []\n",
    "    for i in range(n):\n",
    "        flips.append(flipcoin())\n",
    "    return flips"
   ]
  },
  {
   "cell_type": "code",
   "execution_count": null,
   "id": "b4fb20cd",
   "metadata": {},
   "outputs": [],
   "source": [
    "print(flips(20))"
   ]
  },
  {
   "cell_type": "markdown",
   "id": "18b99aff",
   "metadata": {},
   "source": [
    "Computers are convenient because we can get them to do our boring repetitive work thousands and thousands (and millions!) of times."
   ]
  },
  {
   "cell_type": "markdown",
   "id": "d9949852",
   "metadata": {},
   "source": [
    "We can also make a function to count the number of times 'heads' came up in our trial:"
   ]
  },
  {
   "cell_type": "code",
   "execution_count": null,
   "id": "a0579b99",
   "metadata": {},
   "outputs": [],
   "source": [
    "def countheads(a):\n",
    "    headcount = 0\n",
    "    for i in a:\n",
    "        if i == 'heads':\n",
    "            headcount += 1\n",
    "    return headcount"
   ]
  },
  {
   "cell_type": "code",
   "execution_count": null,
   "id": "439bc92a",
   "metadata": {},
   "outputs": [],
   "source": [
    "countheads(flips(500))"
   ]
  },
  {
   "cell_type": "markdown",
   "id": "626631ba",
   "metadata": {},
   "source": [
    "This enables us to generalize to the distribution of heads in a given number of samples, with each sample having a given number of coin flips."
   ]
  },
  {
   "cell_type": "code",
   "execution_count": null,
   "id": "3efe3343",
   "metadata": {},
   "outputs": [],
   "source": [
    "def coinsamples(numsamples, numflips):\n",
    "    samples = []\n",
    "    for i in range(numsamples):\n",
    "        samples.append(countheads(flips(numflips)))\n",
    "    return samples"
   ]
  },
  {
   "cell_type": "code",
   "execution_count": null,
   "id": "109e3d61",
   "metadata": {},
   "outputs": [],
   "source": [
    "coinsamples(10, 20)"
   ]
  },
  {
   "cell_type": "code",
   "execution_count": null,
   "id": "93ce50ae",
   "metadata": {},
   "outputs": [],
   "source": [
    "numflips = 300\n",
    "numsamples = 100\n",
    "fliparray = coinsamples(numsamples, numflips)\n",
    "plt.hist(fliparray)\n",
    "plt.xlim(0,numflips)"
   ]
  },
  {
   "cell_type": "markdown",
   "id": "681c7927",
   "metadata": {},
   "source": [
    "Looks like a Gaussian distribution function!"
   ]
  },
  {
   "cell_type": "markdown",
   "id": "0942bbfc",
   "metadata": {},
   "source": [
    "Final step: put this functionality into a Python function:"
   ]
  },
  {
   "cell_type": "code",
   "execution_count": null,
   "id": "24c26545",
   "metadata": {},
   "outputs": [],
   "source": [
    "def makenorm(n,flips):\n",
    "    xnums = []\n",
    "    for i in range(n):\n",
    "        xnums.append(0)\n",
    "        for j in range(flips):\n",
    "            if np.random.choice([1,0]):\n",
    "                xnums[i] += 1\n",
    "    plt.hist(xnums, bins=np.arange(-0.5,40.5,1), width=0.8)\n",
    "    plt.xlim(-0.5,0.5+flips)\n",
    "    plt.show()\n",
    "\n",
    "makenorm(100,40)"
   ]
  },
  {
   "cell_type": "markdown",
   "id": "1921532a",
   "metadata": {},
   "source": [
    "What if the coin is biased, so that heads only comes up 30% of the time?  Could we tell from the distribution?"
   ]
  },
  {
   "cell_type": "code",
   "execution_count": null,
   "id": "c69dce21",
   "metadata": {},
   "outputs": [],
   "source": [
    "def makenorm(n,flips,probheads):\n",
    "    xnums = []\n",
    "    for i in range(n):\n",
    "        xnums.append(0)\n",
    "        for j in range(flips):\n",
    "            if np.random.choice([1,0],p=[probheads, 1-probheads]):\n",
    "                xnums[i] += 1\n",
    "    plt.hist(xnums, bins=np.arange(-0.5,40.5,1), width=0.8)\n",
    "    plt.xlim(-0.5,0.5+flips)\n",
    "    plt.show()\n",
    "\n",
    "\n",
    "makenorm(100,40,0.3)"
   ]
  },
  {
   "cell_type": "markdown",
   "id": "f3cf25a9",
   "metadata": {},
   "source": [
    "**Racial sampling**\n",
    "\n",
    "[The following is based on an example from Berkeley's Data8 JupyterBook, [linked here](https://inferentialthinking.com/chapters/11/1/Assessing_a_Model.html)]\n",
    "\n",
    "Calculating random numbers from a distribution can be more than just a mathematical exercise. Statistics and coding can be used to explore inequality.\n",
    "\n",
    "**Amendment VI of the United States Constitution**\n",
    "\n",
    "\"In all criminal prosecutions, the accused shall enjoy the right to a speedy and public trial, by an impartial jury of the State and district wherein the crime shall have been committed.\"\n",
    "\n",
    "\n",
    "**The Supreme Court case of Robert Swain**\n",
    "\n",
    "Robert Swain was a Black man convicted in Talladega County, Alabama, in 1962. His case was appealed all the way up to the U.S. Supreme Court based on the claim that Black people were systematically excluded from juries in Talladega County. (This case also involved issues related to peremptory challenges -- I recommend reading the above link and associated references if you are interested).\n",
    "\n",
    "**A few details**\n",
    "* In Talladega County, 26% of men were Black.\n",
    "* Only 8 men among the 100-member jury panel in Robert Swain's case were Black.\n",
    "* Robert Swain also pointed out that this county's jury panels over the past 10 years had only contained a small percent of Black panelists.\n",
    "* The U.S. Supreme Court wrote that “the overall percentage disparity has been small.” and Robert Swain was later sentenced to life in prison.\n",
    "\n",
    "**Our question**\n",
    "* Is it reasonable to expect that a jury panel in this County could have 8% Black membership?"
   ]
  },
  {
   "cell_type": "markdown",
   "id": "e201158c",
   "metadata": {},
   "source": [
    "**The model**\n",
    "* A hypothesis about the world\n",
    "* The panel was selected at random\n",
    "* The 8-member panel was just due to chance\n",
    "\n",
    "We can assess this model with code\n",
    "\n",
    "* Simulate data based on the model\n",
    "* Show what the data would be like if panel members were selected at random\n",
    "* Compare the simulated data with the real data\n",
    "* If they're not consistent, reject the model"
   ]
  },
  {
   "cell_type": "code",
   "execution_count": null,
   "id": "9eef7995",
   "metadata": {},
   "outputs": [],
   "source": [
    "elems = ['b','w']\n",
    "elems_perc = [0.26, 0.74]"
   ]
  },
  {
   "cell_type": "code",
   "execution_count": null,
   "id": "59322fb2",
   "metadata": {},
   "outputs": [],
   "source": [
    "np.random.choice(elems, p=elems_perc)"
   ]
  },
  {
   "cell_type": "code",
   "execution_count": null,
   "id": "02ef1964",
   "metadata": {},
   "outputs": [],
   "source": [
    "panelsize = 100\n",
    "panel = []\n",
    "for i in range(panelsize):\n",
    "  race = np.random.choice(elems, p=elems_perc)\n",
    "  panel.append(race)\n",
    "print('Number of Black members on the panel: ', panel.count('b'))"
   ]
  },
  {
   "cell_type": "code",
   "execution_count": null,
   "id": "5c5c2e1b",
   "metadata": {},
   "outputs": [],
   "source": [
    "numpanels = 10000\n",
    "numblackmembers = []\n",
    "\n",
    "for i in range(numpanels):\n",
    "  panelsize = 100\n",
    "  panel = []\n",
    "  for i in range(panelsize):\n",
    "    race = np.random.choice(elems, p=elems_perc)\n",
    "    panel.append(race)\n",
    "  numblackmembers.append(panel.count('b'))\n",
    "  \n",
    "plt.hist(numblackmembers, bins=np.arange(5.5, 46.5, 1))\n",
    "plt.xlim(5.5, 46.5)"
   ]
  },
  {
   "cell_type": "code",
   "execution_count": null,
   "id": "f17cf7d3",
   "metadata": {},
   "outputs": [],
   "source": [
    "plt.hist(numblackmembers, bins=np.arange(5.5, 46.5, 1))\n",
    "plt.xlim(5.5, 46.5)\n",
    "plt.ylim(0,5)"
   ]
  }
 ],
 "metadata": {
  "kernelspec": {
   "display_name": "Python 3 (ipykernel)",
   "language": "python",
   "name": "python3"
  },
  "language_info": {
   "codemirror_mode": {
    "name": "ipython",
    "version": 3
   },
   "file_extension": ".py",
   "mimetype": "text/x-python",
   "name": "python",
   "nbconvert_exporter": "python",
   "pygments_lexer": "ipython3",
   "version": "3.9.16"
  }
 },
 "nbformat": 4,
 "nbformat_minor": 5
}
