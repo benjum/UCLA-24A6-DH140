


import pandas as pd


df = pd.read_csv('https://corgis-edu.github.io/corgis/datasets/csv/classics/classics.csv')


df.describe()


df['metrics.statistics.words'].describe()


df['metrics.statistics.words'].plot(kind='hist',bins=100)


df.sort_values(by='metrics.statistics.words',
               ignore_index=True).loc[0:950,'metrics.statistics.words'].plot(kind='hist',bins=100)


df.sort_values(by='metrics.statistics.words',
               ignore_index=True).loc[0:950,'metrics.statistics.words'].plot(kind='box')


df['metrics.statistics.words'].count()


df['metrics.statistics.words'].mean()


df2 = df.sort_values(by='metrics.statistics.words').copy()


df2['metrics.statistics.words']


df2 = df.sort_values(by='metrics.statistics.words',ignore_index=True).copy()


df2['metrics.statistics.words']


df2.loc[int(0.1*1005):int(0.9*1005),'metrics.statistics.words'].mean()


df['metrics.statistics.words'].median()


df['metrics.statistics.words'].std()


df['metrics.statistics.words'].quantile()





df['metrics.statistics.words'].quantile(0.25)


df['metrics.statistics.words'].quantile(0.75)


df['metrics.statistics.words'].plot(kind='box')








df['metrics.sentiments.polarity'].plot(kind='box')


df[df['metrics.sentiments.polarity']<0]


df['metrics.sentiments.polarity'].plot(kind='hist')


df['metrics.sentiments.polarity'].plot(kind='hist', bins=500)


df['metrics.sentiments.polarity'].plot(kind='hist', bins=5000)


print('Mean: ',df['metrics.sentiments.polarity'].mean())
print('Median: ',df['metrics.sentiments.polarity'].median())
print('Mode: ',df['metrics.sentiments.polarity'].mode())
df['metrics.sentiments.polarity'].plot(kind='hist',bins=25);


print('Mean: ',df['bibliography.author.birth'].mean())
print('Median: ',df['bibliography.author.birth'].median())
print('Mode: ',df['bibliography.author.birth'].mode())
df['bibliography.author.birth'].plot(kind='hist',bins=25);


df2 = df.loc[df['bibliography.author.birth']>1800]
print('Mean: ',df2['bibliography.author.birth'].mean())
print('Median: ',df2['bibliography.author.birth'].median())
print('Mode: ',df2['bibliography.author.birth'].mode())
df2['bibliography.author.birth'].plot(kind='hist',bins=25);





import numpy as np
import matplotlib.pyplot as plt





coin = ['heads','tails']


np.random.choice(coin,
                 p=[0.5, 0.5])


def flipcoin():
    return np.random.choice(coin)


flipcoin()





def flips(n):
    flips = []
    for i in range(n):
        flips.append(flipcoin())
    return flips


print(flips(20))








def countheads(a):
    headcount = 0
    for i in a:
        if i == 'heads':
            headcount += 1
    return headcount


countheads(flips(500))





def coinsamples(numsamples, numflips):
    samples = []
    for i in range(numsamples):
        samples.append(countheads(flips(numflips)))
    return samples


coinsamples(10, 20)


numflips = 300
numsamples = 100
fliparray = coinsamples(numsamples, numflips)
plt.hist(fliparray)
plt.xlim(0,numflips)








def makenorm(n,flips):
    xnums = []
    for i in range(n):
        xnums.append(0)
        for j in range(flips):
            if np.random.choice([1,0]):
                xnums[i] += 1
    plt.hist(xnums, bins=np.arange(-0.5,40.5,1), width=0.8)
    plt.xlim(-0.5,0.5+flips)
    plt.show()

makenorm(100,40)





def makenorm(n,flips,probheads):
    xnums = []
    for i in range(n):
        xnums.append(0)
        for j in range(flips):
            if np.random.choice([1,0],p=[probheads, 1-probheads]):
                xnums[i] += 1
    plt.hist(xnums, bins=np.arange(-0.5,40.5,1), width=0.8)
    plt.xlim(-0.5,0.5+flips)
    plt.show()


makenorm(100,40,0.3)








elems = ['b','w']
elems_perc = [0.26, 0.74]


np.random.choice(elems, p=elems_perc)


panelsize = 100
panel = []
for i in range(panelsize):
  race = np.random.choice(elems, p=elems_perc)
  panel.append(race)
print('Number of Black members on the panel: ', panel.count('b'))


numpanels = 10000
numblackmembers = []

for i in range(numpanels):
  panelsize = 100
  panel = []
  for i in range(panelsize):
    race = np.random.choice(elems, p=elems_perc)
    panel.append(race)
  numblackmembers.append(panel.count('b'))
  
plt.hist(numblackmembers, bins=np.arange(5.5, 46.5, 1))
plt.xlim(5.5, 46.5)


plt.hist(numblackmembers, bins=np.arange(5.5, 46.5, 1))
plt.xlim(5.5, 46.5)
plt.ylim(0,5)
