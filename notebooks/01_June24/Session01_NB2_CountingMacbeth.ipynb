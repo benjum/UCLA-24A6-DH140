{
  "cells": [
    {
      "cell_type": "markdown",
      "id": "8ac3750c-ec99-4c1e-a5b2-f42c3df178e3",
      "metadata": {},
      "source": "# Macbeth word frequency ala Python\n\nI don't expect you to understand all this Python code!  \n\nThings to notice:\n* Lots of Python code is available online for you to take and use\n* Python can be used to interact with web sites\n* Python can be used to manipulate and analyze text \n\nThe following is intended merely as an illustration of some things we can do with Python, and we'll use this code later in the quarter when looking into language processing."
    },
    {
      "cell_type": "markdown",
      "id": "9b92e33e",
      "metadata": {},
      "source": "## Requests and NLTK\n\nWe are going to use some Python code to grab the text of Macbeth from Project Gutenberg, and then use some other Python code to analyze the word counts of words in the play.\n\n* **requests** will allow us to get content from web sites\n  * \"**Requests** is an elegant and simple HTTP library for Python, built for human beings.\"\n  * https://requests.readthedocs.io/en/latest/\n* **nltk** will allow us to do language processing\n  * \"**NLTK** is a leading platform for building Python programs to work with human language data.\"\n  * https://www.nltk.org/"
    },
    {
      "cell_type": "markdown",
      "id": "009a0fe0-e9b1-425d-95ce-b24a4621aef3",
      "metadata": {},
      "source": "## Install and import\n\nBefore we can use the above libraries, we need to make sure their code is available (i.e. installed on the system).  We then need to \"import\" the code to make it available here to use.\n\nThis system already has a lot of libraries that you would otherwise have to install yourself.  (We'll talk about Python installation issues and a couple technical details later in the course.)"
    },
    {
      "cell_type": "code",
      "execution_count": null,
      "id": "e64384b9-d6f3-497a-9f77-a050f4b5a22d",
      "metadata": {
        "trusted": true
      },
      "outputs": [],
      "source": "# These \"import\" statements allow us to use the code from requests and nltk\n# If requests imports without an error, then it's already installed.\nimport requests\nimport nltk\nfrom nltk.tokenize import word_tokenize\n\n# This downloads some important information that nltk uses to analyze words\nnltk.download('punkt')"
    },
    {
      "cell_type": "markdown",
      "id": "10f096b3-545c-4ca6-8781-fcd5f6da5d47",
      "metadata": {},
      "source": "## Launch into some Python code\n\nGet the text file for Macbeth from [Project Gutenberg](https://www.gutenberg.org/) and put it into the text file named 'macbeth.txt'"
    },
    {
      "cell_type": "code",
      "execution_count": null,
      "id": "67334eae-aaac-419c-ae9c-b8b92f5626ae",
      "metadata": {
        "trusted": true
      },
      "outputs": [],
      "source": "target_url = \"https://www.gutenberg.org/files/1533/1533-0.txt\"\nresponse = requests.get(target_url)\nwith open('/home/jovyan/macbeth.txt','w',encoding='utf-8') as f:\n    f.write(response.text)"
    },
    {
      "cell_type": "markdown",
      "id": "4ad3bca7",
      "metadata": {},
      "source": "**Important note**:  \n* In this Jupyter environment, you will not be able to save new files in the directory containing this notebook.  If you want to save new files, you must save them in your \"home\" directory, which here is a directory called \"/home/jovyan\".\n* We won't get into too many filesystem or Linux details in this course, but you should note that your \"classwork\" directory can only contain notebook files that I explicitly distribute to you, and nothing else.\n* You can make new notebooks, upload notebooks, upload new data, save data files, and etc, as long as you do that in some directory other than your \"classwork\" directory."
    },
    {
      "cell_type": "markdown",
      "id": "078b99b9-e901-4aeb-bd8c-38d4dca3c123",
      "metadata": {},
      "source": "## Back to our analysis\n\nOpen the text file 'macbeth.txt' and form a list of words from the document. \n\n(Dealing separately with the document here is an unnecessary step since we can just get the data directly from `response.text` above, but it's included here to show it.)"
    },
    {
      "cell_type": "code",
      "execution_count": null,
      "id": "7d9d8a82",
      "metadata": {
        "tags": [],
        "trusted": true
      },
      "outputs": [],
      "source": "document_text = open('/home/jovyan/macbeth.txt', 'r')\nmacbeth_text = document_text.read()\nprint(macbeth_text)"
    },
    {
      "cell_type": "markdown",
      "id": "3ef760f1",
      "metadata": {},
      "source": "Notice above that there are some \"funny\" characters.  Text is a very complex thing to work with on computers, and we'll note some of these character characteristics later.\n\nFor now, we \"tokenize\" the play, that is, break it up into pieces.  Here we break the play text up into a huge list of individual words."
    },
    {
      "cell_type": "code",
      "execution_count": null,
      "id": "21dab0da-d736-468d-a382-208220fafd87",
      "metadata": {
        "tags": [],
        "trusted": true
      },
      "outputs": [],
      "source": "text_string = macbeth_text.lower()\ntext_tokens = word_tokenize(text_string)"
    },
    {
      "cell_type": "markdown",
      "id": "75da2548-35b6-4a06-8d7b-8f2958a3d7cc",
      "metadata": {},
      "source": "Form a dictionary that has the summary count of each tokenized word, indexed by the word.\n\nExample: `frequency['the'] = 2` would indicate 'the' occurs twice."
    },
    {
      "cell_type": "code",
      "execution_count": null,
      "id": "57c3e51e-e2cf-4a1f-b6b8-eb5c0929e669",
      "metadata": {
        "tags": [],
        "trusted": true
      },
      "outputs": [],
      "source": "frequency = {}\nfor word in text_tokens:\n    count = frequency.get(word,0)\n    frequency[word] = count + 1"
    },
    {
      "cell_type": "markdown",
      "id": "133b5c01-25a3-4a09-8086-05240d96cb3e",
      "metadata": {},
      "source": "Print out the frequency of words for all tokenized words.\n\nIf you uncomment the last two lines, you can only print the occurrence of matched words."
    },
    {
      "cell_type": "code",
      "execution_count": null,
      "id": "9daae86c-e2a8-4f18-918c-1b41091ca127",
      "metadata": {
        "scrolled": true,
        "tags": [],
        "trusted": true
      },
      "outputs": [],
      "source": "frequency_list = frequency.keys()\nfor words in frequency_list:\n    print(words, frequency[words])\n#     if 'code' in words:\n#         print(words, frequency[words])"
    },
    {
      "cell_type": "markdown",
      "id": "7baa14f8",
      "metadata": {},
      "source": "# Before we end...\n\n## Refreshing the notebook\n* If you mess things up in this notebook and want to completely start all over again with an original copy of the notebook, go up to the top and click on \"Start Over\"\n* This will erase your current work and allow you to begin with a fresh copy\n  \n## Saving your work\n* You should **always** save your notebook periodically.\n* If you are idle in this environment for too long, the system may time out your session and you'll lose unsaved work.\n* If you lose your internet connection, you may also lose your work.\n* **Always** periodically save your work.\n\n## Submitting assignments\n\n* Your assignments will consist of notebooks in this environment.\n* For assignments, you will click on the \"Submit\" button."
    },
    {
      "cell_type": "markdown",
      "id": "c30bd617",
      "metadata": {},
      "source": "## Test:\n* Find out whether \"code\" appears in Macbeth\n* Edit the markdown code in this cell and:\n  * Enter any relevant words here: \n  * Enter the number of occurrences here:\n* Save the notebook\n* Click on the Submit button now to see what it does."
    },
    {
      "cell_type": "markdown",
      "id": "04b5ca82",
      "metadata": {},
      "source": "# End"
    }
  ],
  "metadata": {
    "kernelspec": {
      "display_name": "Python 3 (ipykernel)",
      "language": "python",
      "name": "python3"
    },
    "language_info": {
      "codemirror_mode": {
        "name": "ipython",
        "version": 3
      },
      "file_extension": ".py",
      "mimetype": "text/x-python",
      "name": "python",
      "nbconvert_exporter": "python",
      "pygments_lexer": "ipython3",
      "version": "3.11.6"
    }
  },
  "nbformat": 4,
  "nbformat_minor": 5
}