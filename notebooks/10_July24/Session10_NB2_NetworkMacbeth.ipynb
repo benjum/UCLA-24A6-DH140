{
  "cells": [
    {
      "cell_type": "markdown",
      "id": "1911a723-351e-42bc-ad8f-2c71cc77d96e",
      "metadata": {},
      "source": "# Using NetworkX for Network Analysis of Macbeth"
    },
    {
      "cell_type": "markdown",
      "id": "1f6af487-6ec8-48f1-bb96-1c5abffb5402",
      "metadata": {},
      "source": "We already know several ways to import the text of Macbeth into a Python variable, as well as to find the occurrence of character's names in a string."
    },
    {
      "cell_type": "code",
      "execution_count": null,
      "id": "0c08d971",
      "metadata": {
        "trusted": true
      },
      "outputs": [],
      "source": "import requests\nfrom bs4 import BeautifulSoup"
    },
    {
      "cell_type": "code",
      "execution_count": null,
      "id": "b6710d12",
      "metadata": {
        "trusted": true
      },
      "outputs": [],
      "source": "response = requests.get('https://raw.githubusercontent.com/benjum/NetworksInPython/main/data/Macbeth.txt')"
    },
    {
      "cell_type": "code",
      "execution_count": null,
      "id": "45af91a7",
      "metadata": {
        "trusted": true
      },
      "outputs": [],
      "source": "response.text"
    },
    {
      "cell_type": "code",
      "execution_count": null,
      "id": "261fda17",
      "metadata": {
        "trusted": true
      },
      "outputs": [],
      "source": "x = response.text"
    },
    {
      "cell_type": "markdown",
      "id": "861bd541",
      "metadata": {},
      "source": "It's a little bit of work to figure out how to splice the elements of the play, but once we settle on a method, we can use a nested set of indexing and splitting to give us what we want."
    },
    {
      "cell_type": "code",
      "execution_count": null,
      "id": "87135513-36fd-455b-bc6f-62569c09077d",
      "metadata": {
        "trusted": true
      },
      "outputs": [],
      "source": "x.split('Act')[1].split('SCENE')[1]"
    },
    {
      "cell_type": "code",
      "execution_count": null,
      "id": "7df9bc16-79fa-4cdf-8352-41be5a6980d4",
      "metadata": {
        "trusted": true
      },
      "outputs": [],
      "source": "acts = x.split('ACT')[6:]"
    },
    {
      "cell_type": "code",
      "execution_count": null,
      "id": "1cab7cf9-e08b-4405-bb0b-fbbabdf5e0f1",
      "metadata": {
        "tags": [],
        "trusted": true
      },
      "outputs": [],
      "source": "acts[-1]"
    },
    {
      "cell_type": "code",
      "execution_count": null,
      "id": "5533ec96-d816-4528-949a-a32868ed48ae",
      "metadata": {
        "tags": [],
        "trusted": true
      },
      "outputs": [],
      "source": "acts[1].split('SCENE')[-1]"
    },
    {
      "cell_type": "code",
      "execution_count": null,
      "id": "b2e5a7fb-d1e6-4893-bb8e-ccf023bedf88",
      "metadata": {
        "trusted": true
      },
      "outputs": [],
      "source": "acts[1].split('SCENE')[-1].find('OLD MAN')"
    },
    {
      "cell_type": "markdown",
      "id": "096b365c",
      "metadata": {},
      "source": "We'll use the characters in the play as our nodes.  For quantification, we will calculate the number of scenes that a character is in, as well as the number of times that any pair of characters occur in a scene together."
    },
    {
      "cell_type": "code",
      "execution_count": null,
      "id": "b1a48744-8407-47d0-8725-1bef51ae31b6",
      "metadata": {
        "trusted": true
      },
      "outputs": [],
      "source": "characters = [\n    'DUNCAN',\n    'MALCOLM',\n    'DONALBAIN',\n    'MACBETH',\n    'BANQUO',\n    'MACDUFF',\n    'LENNOX',\n    'ROSS',\n    'MENTEITH',\n    'ANGUS',\n    'CAITHNESS',\n    'FLEANCE',\n    'SIWARD',\n    'YOUNG SIWARD',\n    'SEYTON',\n    'SON',\n    'DOCTOR',\n    'SOLDIER',\n    'PORTER',\n    'OLD MAN',\n    'LADY MACBETH',\n    'LADY MACDUFF',\n    'GENTLEWOMAN',\n    'HECATE',\n    'FIRST WITCH',\n    'SECOND WITCH',\n    'THIRD WITCH'\n]"
    },
    {
      "cell_type": "code",
      "execution_count": null,
      "id": "70537550-59bd-49cb-95bd-5cc5d3bca2cc",
      "metadata": {
        "trusted": true
      },
      "outputs": [],
      "source": "len(acts)"
    },
    {
      "cell_type": "code",
      "execution_count": null,
      "id": "f9846370-69f6-42df-a432-380643f9f038",
      "metadata": {
        "trusted": true
      },
      "outputs": [],
      "source": "# Initialize a dictionary for characters\ncharnum = {}\nfor k in characters:\n    charnum[k] = 0\n\n# Initialize a dictionary for all pairs of characters\nconnections = {}\nfor i in range(len(characters)-1):\n    for j in range(i+1,len(characters)):\n        connections[(characters[i],characters[j])] = 0\n\n# For every act and scene,\n# increment the count for a character if they occur in the scene\n# and increment the count for character pairs if they co-occur\nfor i in acts:\n    for j in i.split('SCENE')[1:]:\n        scenechars = []\n        for k in characters:\n            if j.find(k) != -1:\n                scenechars.append(k)\n                charnum[k] += 1\n        for a in range(len(scenechars)-1):\n            for b in range(a+1,len(scenechars)):\n                connections[(scenechars[a],scenechars[b])] += 1"
    },
    {
      "cell_type": "code",
      "execution_count": null,
      "id": "a26a1146-375e-48ab-a654-1da3e849296a",
      "metadata": {
        "tags": [],
        "trusted": true
      },
      "outputs": [],
      "source": "charnum"
    },
    {
      "cell_type": "code",
      "execution_count": null,
      "id": "1c8eca9b-8b15-4fee-8ef4-0c855ebd21be",
      "metadata": {
        "scrolled": true,
        "tags": [],
        "trusted": true
      },
      "outputs": [],
      "source": "connections"
    },
    {
      "cell_type": "markdown",
      "id": "f7746b89",
      "metadata": {},
      "source": "Now we have the info to make some networks."
    },
    {
      "cell_type": "code",
      "execution_count": null,
      "id": "150f2ee2",
      "metadata": {
        "trusted": true
      },
      "outputs": [],
      "source": "import networkx as nx\nimport matplotlib.pyplot as plt"
    },
    {
      "cell_type": "code",
      "execution_count": null,
      "id": "41bd03fc-bf25-458f-b89c-f9643fb13790",
      "metadata": {
        "scrolled": true,
        "tags": [],
        "trusted": true
      },
      "outputs": [],
      "source": "nxgraphitems = []\n\n# for k,v in charnum.items():\n#     network_node = k\n#     graphitems.append(network_node)\n\nfor k,v in connections.items():\n    if v != 0:\n        network_edge = (k[0],k[1])\n        nxgraphitems.append(network_edge)\n    \nnxgraphitems"
    },
    {
      "cell_type": "code",
      "execution_count": null,
      "id": "d8ac0f78-863b-4a98-804e-577333ec717a",
      "metadata": {
        "trusted": true
      },
      "outputs": [],
      "source": "G = nx.Graph()"
    },
    {
      "cell_type": "code",
      "execution_count": null,
      "id": "00f5ea12",
      "metadata": {
        "trusted": true
      },
      "outputs": [],
      "source": "G.add_edges_from(nxgraphitems)"
    },
    {
      "cell_type": "code",
      "execution_count": null,
      "id": "f7a50bf2",
      "metadata": {
        "trusted": true
      },
      "outputs": [],
      "source": "nx.draw(G, with_labels=True)\nplt.show()"
    },
    {
      "cell_type": "code",
      "execution_count": null,
      "id": "25506ec4-51b8-4620-8ddb-7d81f15f3496",
      "metadata": {
        "trusted": true
      },
      "outputs": [],
      "source": "G.nodes"
    },
    {
      "cell_type": "code",
      "execution_count": null,
      "id": "40c9d2bb",
      "metadata": {
        "trusted": true
      },
      "outputs": [],
      "source": "charnum.keys()"
    },
    {
      "cell_type": "code",
      "execution_count": null,
      "id": "ac418dd1",
      "metadata": {
        "trusted": true
      },
      "outputs": [],
      "source": "charnum.values()"
    },
    {
      "cell_type": "code",
      "execution_count": null,
      "id": "80da8768",
      "metadata": {
        "trusted": true
      },
      "outputs": [],
      "source": "nx.draw(G, \n        with_labels=True, \n        nodelist=list(charnum.keys()), \n        node_size=[i*50 for i in charnum.values()])\nplt.show()"
    },
    {
      "cell_type": "code",
      "execution_count": null,
      "id": "87f351c6",
      "metadata": {
        "trusted": true
      },
      "outputs": [],
      "source": "plt.figure(figsize=(8,8))\n\npos = nx.spring_layout(G)\n# pos = nx.spring_layout(G, k=2) # adjust the spacing\n# pos = nx.circular_layout(G)      # use a different layout\n\nnx.draw(G, \n        with_labels=True, \n        nodelist=list(charnum.keys()), \n        node_size=[i*50 for i in charnum.values()],\n        pos = pos\n        )\nplt.show()"
    },
    {
      "cell_type": "code",
      "execution_count": null,
      "id": "4a7e3ff6-457d-4006-a482-aee26b483e74",
      "metadata": {
        "scrolled": true,
        "trusted": true
      },
      "outputs": [],
      "source": "nx.degree_centrality(G)"
    },
    {
      "cell_type": "code",
      "execution_count": null,
      "id": "81a97071-cfdd-4701-bf49-8b3fefe04619",
      "metadata": {
        "scrolled": true,
        "trusted": true
      },
      "outputs": [],
      "source": "dc = nx.degree_centrality(G)\nfor i in sorted(dc, key=dc.get, reverse=True):\n    print('{:15s}: {:.3f}'.format(i.title(), dc[i]))"
    },
    {
      "cell_type": "code",
      "execution_count": null,
      "id": "ab81440f-9139-4e64-a5e2-473a3e10eb90",
      "metadata": {
        "scrolled": true,
        "trusted": true
      },
      "outputs": [],
      "source": "list(G.neighbors('MACBETH'))"
    },
    {
      "cell_type": "code",
      "execution_count": null,
      "id": "89c20c0e-e501-4c37-8a2d-2c293320c994",
      "metadata": {
        "trusted": true
      },
      "outputs": [],
      "source": "list(G.neighbors('OLD MAN'))"
    },
    {
      "cell_type": "code",
      "execution_count": null,
      "id": "81a85623-5a3d-47d1-a469-ea950f51b362",
      "metadata": {
        "trusted": true
      },
      "outputs": [],
      "source": "nx.shortest_path(G,'OLD MAN','YOUNG SIWARD')"
    },
    {
      "cell_type": "code",
      "execution_count": null,
      "id": "699027ed-6633-4dc4-b649-c9a0fb971613",
      "metadata": {
        "trusted": true
      },
      "outputs": [],
      "source": "nx.betweenness_centrality(G)"
    },
    {
      "cell_type": "code",
      "execution_count": null,
      "id": "5bf353f4-00ce-4db2-ba33-abac392c3465",
      "metadata": {
        "trusted": true
      },
      "outputs": [],
      "source": "dc = nx.betweenness_centrality(G)\nfor i in sorted(dc, key=dc.get, reverse=True):\n    print('{:15s}: {:.3f}'.format(i.title(), dc[i]))"
    },
    {
      "cell_type": "code",
      "execution_count": null,
      "id": "c98bdfc4-16a2-41cc-ac52-7b6814c8642f",
      "metadata": {
        "trusted": true
      },
      "outputs": [],
      "source": "from networkx.algorithms.community.centrality import girvan_newman"
    },
    {
      "cell_type": "code",
      "execution_count": null,
      "id": "b10ec5f7-f3bd-4931-a8d3-9c5183317f7c",
      "metadata": {
        "trusted": true
      },
      "outputs": [],
      "source": "communities = girvan_newman(G)"
    },
    {
      "cell_type": "code",
      "execution_count": null,
      "id": "4ecd7671-b6cb-4fc9-9c52-f357628b7fd3",
      "metadata": {
        "trusted": true
      },
      "outputs": [],
      "source": "node_groups = []\nfor com in next(communities):\n    node_groups.append(list(com))\n \nprint(node_groups)\n \ncolor_map = []\nfor node in G:\n    if node in node_groups[0]:\n        color_map.append('blue')\n    else:\n        color_map.append('green')\nnx.draw(G, node_color=color_map, with_labels=True)\nplt.show()"
    },
    {
      "cell_type": "code",
      "execution_count": null,
      "id": "0a55e9ef-306c-41c9-ae62-4c6ccd46cc2d",
      "metadata": {
        "trusted": true
      },
      "outputs": [],
      "source": "nx.density(G)"
    },
    {
      "cell_type": "code",
      "execution_count": null,
      "id": "4547e129-5ec2-485c-a37d-c7a690b69697",
      "metadata": {
        "trusted": true
      },
      "outputs": [],
      "source": "from networkx.algorithms.community import greedy_modularity_communities"
    },
    {
      "cell_type": "code",
      "execution_count": null,
      "id": "92e5624a-de36-47c1-bbc0-0605930c1450",
      "metadata": {
        "trusted": true
      },
      "outputs": [],
      "source": "greedy_modularity_communities(G)"
    },
    {
      "cell_type": "code",
      "execution_count": null,
      "id": "93fd0c6c-644a-4e91-a6d6-415c7288f614",
      "metadata": {
        "trusted": true
      },
      "outputs": [],
      "source": "communities = greedy_modularity_communities(G)\n\n# Create empty dictionary\nmodularity_class = {}\n\n#Loop through each community in the network\nfor community_number, community in enumerate(communities):\n    #For each member of the community, add their community number\n    for name in community:\n        modularity_class[name] = community_number"
    },
    {
      "cell_type": "code",
      "execution_count": null,
      "id": "e79ba189-12f1-499b-a196-86fb882ee3c8",
      "metadata": {
        "trusted": true
      },
      "outputs": [],
      "source": "modularity_class"
    },
    {
      "cell_type": "code",
      "execution_count": null,
      "id": "5774211b-cce0-4f98-8131-a8eb9931cdd3",
      "metadata": {
        "trusted": true
      },
      "outputs": [],
      "source": "communities = greedy_modularity_communities(G)\n\nnode_groups = []\nfor com in communities:\n    node_groups.append(list(com))\n \nprint(node_groups)\n \ncolor_map = []\nfor node in G:\n    if node in node_groups[0]:\n        color_map.append('blue')\n    elif node in node_groups[1]:\n        color_map.append('yellow')\n    else:\n        color_map.append('green')\nnx.draw(G, node_color=color_map, with_labels=True)\nplt.show()"
    },
    {
      "cell_type": "code",
      "execution_count": null,
      "id": "4caede81",
      "metadata": {
        "trusted": true
      },
      "outputs": [],
      "source": "plt.figure(figsize=(8,8))\n\npos = nx.spring_layout(G)\n# pos = nx.spring_layout(G, k=2) # adjust the spacing\n# pos = nx.circular_layout(G)      # use a different layout\n\nnx.draw(G, \n        with_labels=True, \n        nodelist=list(charnum.keys()), \n        node_size=[i*50 for i in charnum.values()],\n        pos = pos,\n        node_color=color_map\n        )\nplt.show()"
    },
    {
      "cell_type": "markdown",
      "id": "45fd513e",
      "metadata": {},
      "source": "We could do a lot of customization to make a better visualization.\n\nOn the other hand, NetworkX is intended primarily for analysis, not for visualization... -> Bokeh and Dash Cytoscape are two other (better) options for network visualizations with Python."
    }
  ],
  "metadata": {
    "kernelspec": {
      "display_name": "Python 3 (ipykernel)",
      "language": "python",
      "name": "python3"
    },
    "language_info": {
      "codemirror_mode": {
        "name": "ipython",
        "version": 3
      },
      "file_extension": ".py",
      "mimetype": "text/x-python",
      "name": "python",
      "nbconvert_exporter": "python",
      "pygments_lexer": "ipython3",
      "version": "3.11.6"
    }
  },
  "nbformat": 4,
  "nbformat_minor": 5
}