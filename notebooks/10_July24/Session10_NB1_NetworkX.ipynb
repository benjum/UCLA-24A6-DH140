{
  "cells": [
    {
      "cell_type": "markdown",
      "id": "3adcf1b7-e258-449d-95a2-9754312d88e9",
      "metadata": {},
      "source": "## NetworkX\n\nNetworkX is a network analysis library for Python.\n\n\"The package provides classes for graph objects, generators to create standard graphs, IO routines for reading in existing datasets, algorithms to analyze the resulting networks and some basic drawing tools.\"\n\nhttps://networkx.org/documentation/stable/reference/introduction.html"
    },
    {
      "cell_type": "code",
      "execution_count": null,
      "id": "f1257854-5a15-4c51-b38a-9f693849c961",
      "metadata": {
        "trusted": true
      },
      "outputs": [],
      "source": "import networkx as nx\nimport matplotlib.pyplot as plt"
    },
    {
      "cell_type": "code",
      "execution_count": null,
      "id": "401571aa-09e6-4805-8cb0-205ed188aa0f",
      "metadata": {
        "trusted": true
      },
      "outputs": [],
      "source": "G = nx.Graph()"
    },
    {
      "cell_type": "code",
      "execution_count": null,
      "id": "300331c5-01cc-4f47-9e44-76fb8d6f445d",
      "metadata": {
        "trusted": true
      },
      "outputs": [],
      "source": "G.add_nodes_from([1, 2, 3])\nG.nodes()"
    },
    {
      "cell_type": "code",
      "execution_count": null,
      "id": "35e2563a-a03e-4d36-b743-1a241b41abae",
      "metadata": {
        "trusted": true
      },
      "outputs": [],
      "source": "G.add_edge(1, 2)\nG.edges()"
    },
    {
      "cell_type": "code",
      "execution_count": null,
      "id": "298f3ab1-d897-48a5-84b9-261010d59ab8",
      "metadata": {
        "trusted": true
      },
      "outputs": [],
      "source": "nx.draw(G)\nplt.show()"
    },
    {
      "cell_type": "code",
      "execution_count": null,
      "id": "e7bdb20c-90d8-459b-853a-34abffdf7726",
      "metadata": {
        "trusted": true
      },
      "outputs": [],
      "source": "nx.draw(G, with_labels=True)\nplt.show()"
    },
    {
      "cell_type": "code",
      "execution_count": null,
      "id": "0e2c4f63-0ab9-4efc-9943-fac8af32d00f",
      "metadata": {
        "trusted": true
      },
      "outputs": [],
      "source": "nx.draw(G, with_labels=True, node_size=500, node_color='yellow')\nplt.show()"
    },
    {
      "cell_type": "code",
      "execution_count": null,
      "id": "b7b31ef7-e390-4f08-94c5-9821ac709500",
      "metadata": {
        "trusted": true
      },
      "outputs": [],
      "source": "G.add_edges_from([(1,3),(2,3)])"
    },
    {
      "cell_type": "code",
      "execution_count": null,
      "id": "806465a0-aac7-4f6a-8408-d55ad42e6214",
      "metadata": {
        "trusted": true
      },
      "outputs": [],
      "source": "G.edges"
    },
    {
      "cell_type": "code",
      "execution_count": null,
      "id": "6e67276b-37d0-4b0b-b4a1-c31a3db1bfd8",
      "metadata": {
        "trusted": true
      },
      "outputs": [],
      "source": "G.nodes"
    },
    {
      "cell_type": "code",
      "execution_count": null,
      "id": "4871f3f5-602f-4e74-a3a9-4903b0295330",
      "metadata": {
        "trusted": true
      },
      "outputs": [],
      "source": "nx.draw(G, with_labels=True, node_size=500, node_color='yellow')\nplt.show()"
    },
    {
      "cell_type": "code",
      "execution_count": null,
      "id": "065efb7d-0c50-4df0-985f-4243b7340e37",
      "metadata": {
        "trusted": true
      },
      "outputs": [],
      "source": "G = nx.Graph()\nG.add_edges_from([(1,2),(1,3),(1,4),(1,5),(1,6)])\nnx.draw(G, with_labels=True)\nplt.show()"
    },
    {
      "cell_type": "code",
      "execution_count": null,
      "id": "a5543d34-d48a-45da-8308-2cdd6abf7255",
      "metadata": {
        "trusted": true
      },
      "outputs": [],
      "source": "nx.degree(G)"
    },
    {
      "cell_type": "code",
      "execution_count": null,
      "id": "34eaa586-6d03-4a2a-97c3-f590d559eaf8",
      "metadata": {
        "trusted": true
      },
      "outputs": [],
      "source": "nx.degree_centrality(G)"
    },
    {
      "cell_type": "code",
      "execution_count": null,
      "id": "804aea8a-30cb-4a1b-8afc-4080d0273da5",
      "metadata": {
        "trusted": true
      },
      "outputs": [],
      "source": "nx.density(G)"
    },
    {
      "cell_type": "code",
      "execution_count": null,
      "id": "91a13be1-82b2-4e0a-ac57-92134e9907a7",
      "metadata": {
        "trusted": true
      },
      "outputs": [],
      "source": "G = nx.Graph()\nG.add_edges_from([(1,2),(1,3),(1,4),(1,5),(1,6),(2,3)])\nnx.draw(G, with_labels=True)\nplt.show()"
    },
    {
      "cell_type": "code",
      "execution_count": null,
      "id": "cfab15f8-5919-4713-99f4-557ae1a8cafd",
      "metadata": {
        "trusted": true
      },
      "outputs": [],
      "source": "nx.degree(G)"
    },
    {
      "cell_type": "code",
      "execution_count": null,
      "id": "bc07a0e4-76e4-49af-9a55-b3a5554003ac",
      "metadata": {
        "trusted": true
      },
      "outputs": [],
      "source": "nx.degree_centrality(G)"
    },
    {
      "cell_type": "code",
      "execution_count": null,
      "id": "fc571d1a-db63-48ea-9024-08d82cea6c73",
      "metadata": {
        "trusted": true
      },
      "outputs": [],
      "source": "nx.density(G)"
    },
    {
      "cell_type": "code",
      "execution_count": null,
      "id": "77fd6cdb-486e-4f92-ac2d-44dfce42268f",
      "metadata": {
        "trusted": true
      },
      "outputs": [],
      "source": "list(nx.connected_components(G))"
    },
    {
      "cell_type": "code",
      "execution_count": null,
      "id": "820c312b-4764-4593-9891-1b231274ef64",
      "metadata": {
        "trusted": true
      },
      "outputs": [],
      "source": "nx.number_connected_components(G)"
    },
    {
      "cell_type": "code",
      "execution_count": null,
      "id": "e3bc7cbd-f78b-470d-9aca-9ccfa6c395a5",
      "metadata": {
        "trusted": true
      },
      "outputs": [],
      "source": "G = nx.Graph()\nG.add_edges_from([(1,2),(1,3),(1,4),(6,5)])\nnx.draw(G, with_labels=True)\nplt.show()"
    },
    {
      "cell_type": "code",
      "execution_count": null,
      "id": "f46a50b8-265a-4c69-b0b5-5c0defe3f9dd",
      "metadata": {
        "trusted": true
      },
      "outputs": [],
      "source": "nx.degree_centrality(G)"
    },
    {
      "cell_type": "code",
      "execution_count": null,
      "id": "92835662-99d5-4772-ab78-38488da41bc6",
      "metadata": {
        "trusted": true
      },
      "outputs": [],
      "source": "list(G.neighbors(1))"
    },
    {
      "cell_type": "code",
      "execution_count": null,
      "id": "c8a81b88-622d-4909-8d19-84e594afa509",
      "metadata": {
        "trusted": true
      },
      "outputs": [],
      "source": "list(G.neighbors(3))"
    },
    {
      "cell_type": "code",
      "execution_count": null,
      "id": "8ea67a96-7645-4413-b4f7-a63ffd3b4460",
      "metadata": {
        "trusted": true
      },
      "outputs": [],
      "source": "list(nx.connected_components(G))"
    },
    {
      "cell_type": "code",
      "execution_count": null,
      "id": "ef1e9c2a-5a3c-4632-9cb5-9c2ec1881583",
      "metadata": {
        "trusted": true
      },
      "outputs": [],
      "source": "nx.number_connected_components(G)"
    },
    {
      "cell_type": "code",
      "execution_count": null,
      "id": "be25cbc0-b456-4c32-89f1-bc18e9e42b77",
      "metadata": {
        "trusted": true
      },
      "outputs": [],
      "source": "G = nx.Graph()\nG.add_edges_from([(1,2),(1,3),(1,4),(1,5),(1,6),(2,3)])\nnx.draw(G, with_labels=True)\nplt.show()"
    },
    {
      "cell_type": "code",
      "execution_count": null,
      "id": "ccea8757-9260-4251-a29d-87f56ffbd968",
      "metadata": {
        "trusted": true
      },
      "outputs": [],
      "source": "nx.shortest_path(G,3,6)"
    },
    {
      "cell_type": "code",
      "execution_count": null,
      "id": "4f201d7b-fd07-4efd-b009-b97b26d20c19",
      "metadata": {
        "trusted": true
      },
      "outputs": [],
      "source": "nx.shortest_path(G)"
    },
    {
      "cell_type": "code",
      "execution_count": null,
      "id": "06f06cf6-c585-42ca-827f-eb4bf4448955",
      "metadata": {
        "trusted": true
      },
      "outputs": [],
      "source": "nx.betweenness_centrality(G)"
    },
    {
      "cell_type": "code",
      "execution_count": null,
      "id": "731e596f-8502-454e-bbdf-79eb500571df",
      "metadata": {
        "trusted": true
      },
      "outputs": [],
      "source": "nx.edge_betweenness_centrality(G)"
    },
    {
      "cell_type": "code",
      "execution_count": null,
      "id": "9cdd1612-3a52-41b9-bda0-ff8dd4cd3d26",
      "metadata": {
        "trusted": true
      },
      "outputs": [],
      "source": "# load the graph\nG = nx.karate_club_graph()\n\n# visualize the graph\nnx.draw(G, with_labels = True)"
    },
    {
      "cell_type": "code",
      "execution_count": null,
      "id": "cf009489-46ee-42d8-bdc3-af9803edf24d",
      "metadata": {
        "trusted": true
      },
      "outputs": [],
      "source": "G.nodes"
    },
    {
      "cell_type": "code",
      "execution_count": null,
      "id": "8ee6ce8f-52fd-4437-8826-c0e5c7d0b7ed",
      "metadata": {
        "trusted": true
      },
      "outputs": [],
      "source": "G.edges"
    },
    {
      "cell_type": "code",
      "execution_count": null,
      "id": "9850ec48-85aa-43b4-a6e6-458702eadafe",
      "metadata": {
        "trusted": true
      },
      "outputs": [],
      "source": "G.nodes(data=True)"
    },
    {
      "cell_type": "code",
      "execution_count": null,
      "id": "96ebee2d-23a0-463f-a01f-f128eef16a66",
      "metadata": {
        "trusted": true
      },
      "outputs": [],
      "source": "[i for i in G.nodes(data=True) if i[1]['club']=='Mr. Hi']"
    },
    {
      "cell_type": "code",
      "execution_count": null,
      "id": "986dfc91-5703-4e87-8260-033ba7bd462b",
      "metadata": {
        "trusted": true
      },
      "outputs": [],
      "source": "# plot the communities\ncolor_map = []\nfor node in G.nodes(data=True):\n#    print(node)\n    if node[1]['club'] == 'Mr. Hi':\n        color_map.append('blue')\n    else: \n        color_map.append('green')  \n\nnx.draw(G, node_color=color_map, with_labels=True)\nplt.show()"
    },
    {
      "cell_type": "code",
      "execution_count": null,
      "id": "a0e95e61-5ffe-4dcb-9913-a416c6b62326",
      "metadata": {
        "trusted": true
      },
      "outputs": [],
      "source": "from networkx.algorithms.community.centrality import girvan_newman"
    },
    {
      "cell_type": "code",
      "execution_count": null,
      "id": "2b0106d4-1d90-4411-9d80-545ec05bee21",
      "metadata": {
        "trusted": true
      },
      "outputs": [],
      "source": "communities = girvan_newman(G)\n\nnode_groups = []\nfor com in next(communities):\n    node_groups.append(list(com))\n \nprint(node_groups)\n \ncolor_map = []\nfor node in G:\n    if node in node_groups[0]:\n        color_map.append('orange')\n    else:\n        color_map.append('yellow')\nnx.draw(G, node_color=color_map, with_labels=True)\nplt.show()"
    },
    {
      "cell_type": "code",
      "execution_count": null,
      "id": "2e5e60e9-cc9c-4e95-8c22-892840ec746e",
      "metadata": {
        "trusted": true
      },
      "outputs": [],
      "source": "nx.density(G)"
    },
    {
      "cell_type": "code",
      "execution_count": null,
      "id": "2ed4870d-e1e9-40af-af26-43b6a462163e",
      "metadata": {
        "trusted": true
      },
      "outputs": [],
      "source": "from networkx.algorithms.community import greedy_modularity_communities"
    },
    {
      "cell_type": "code",
      "execution_count": null,
      "id": "708aead4-eef3-4d30-8f6d-2f83a34fe889",
      "metadata": {
        "trusted": true
      },
      "outputs": [],
      "source": "communities = greedy_modularity_communities(G)\n# Create empty dictionary\nmodularity_class = {}\n#Loop through each community in the network\nfor community_number, community in enumerate(communities):\n    #For each member of the community, add their community number\n    for name in community:\n        modularity_class[name] = community_number"
    },
    {
      "cell_type": "code",
      "execution_count": null,
      "id": "f1e51c48-ad76-4935-ba24-c6fafdfd9002",
      "metadata": {
        "trusted": true
      },
      "outputs": [],
      "source": "modularity_class"
    },
    {
      "cell_type": "code",
      "execution_count": null,
      "id": "6632f10f-a6e1-4a81-a26b-93c04899f914",
      "metadata": {
        "trusted": true
      },
      "outputs": [],
      "source": "communities = greedy_modularity_communities(G)\n\nnode_groups = []\nfor com in communities:\n    node_groups.append(list(com))\n \nprint(node_groups)\n \ncolor_map = []\nfor node in G:\n    if node in node_groups[0]:\n        color_map.append('blue')\n    elif node in node_groups[1]:\n        color_map.append('yellow')\n    else:\n        color_map.append('green')\nnx.draw(G, node_color=color_map, with_labels=True)\nplt.show()"
    },
    {
      "cell_type": "code",
      "execution_count": null,
      "id": "8eff9a0d-8c48-463f-9fda-f3e94900784e",
      "metadata": {
        "trusted": true
      },
      "outputs": [],
      "source": "nx.degree_centrality(G)"
    },
    {
      "cell_type": "code",
      "execution_count": null,
      "id": "6ba28983-e7f1-47c2-962d-0a230084ae8c",
      "metadata": {
        "trusted": true
      },
      "outputs": [],
      "source": "dc = nx.degree_centrality(G)\nfor i in sorted(dc, key=dc.get, reverse=True):\n    print('{:2d}: {:.3f}'.format(i, dc[i]))"
    },
    {
      "cell_type": "code",
      "execution_count": null,
      "id": "20211c69-cad0-4e6e-b1cf-93053ff8a9c7",
      "metadata": {
        "trusted": true
      },
      "outputs": [],
      "source": "dc = nx.betweenness_centrality(G)\nfor i in sorted(dc, key=dc.get, reverse=True):\n    print('{:2d}: {:.3f}'.format(i, dc[i]))"
    },
    {
      "cell_type": "code",
      "execution_count": null,
      "id": "b4f8ae52-ebb4-482c-b2ba-c162c0adbde5",
      "metadata": {
        "trusted": true
      },
      "outputs": [],
      "source": "dc = nx.closeness_centrality(G)\nfor i in sorted(dc, key=dc.get, reverse=True):\n    print('{:2d}: {:.3f}'.format(i, dc[i]))"
    },
    {
      "cell_type": "code",
      "execution_count": null,
      "id": "5448c979-27c8-48ea-9349-6ddc9d940671",
      "metadata": {
        "trusted": true
      },
      "outputs": [],
      "source": "dc = nx.eigenvector_centrality(G)\nfor i in sorted(dc, key=dc.get, reverse=True):\n    print('{:2d}: {:.3f}'.format(i, dc[i]))"
    }
  ],
  "metadata": {
    "kernelspec": {
      "display_name": "Python 3 (ipykernel)",
      "language": "python",
      "name": "python3"
    },
    "language_info": {
      "codemirror_mode": {
        "name": "ipython",
        "version": 3
      },
      "file_extension": ".py",
      "mimetype": "text/x-python",
      "name": "python",
      "nbconvert_exporter": "python",
      "pygments_lexer": "ipython3",
      "version": "3.11.6"
    }
  },
  "nbformat": 4,
  "nbformat_minor": 5
}